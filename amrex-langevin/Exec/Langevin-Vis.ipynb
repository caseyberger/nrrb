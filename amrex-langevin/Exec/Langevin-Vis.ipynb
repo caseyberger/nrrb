{
 "cells": [
  {
   "cell_type": "code",
   "execution_count": null,
   "metadata": {},
   "outputs": [],
   "source": [
    "import yt\n",
    "import numpy as np"
   ]
  },
  {
   "cell_type": "code",
   "execution_count": null,
   "metadata": {},
   "outputs": [],
   "source": [
    "filename = \"plt00010\""
   ]
  },
  {
   "cell_type": "code",
   "execution_count": null,
   "metadata": {},
   "outputs": [],
   "source": [
    "ds = yt.load(filename)"
   ]
  },
  {
   "cell_type": "code",
   "execution_count": null,
   "metadata": {},
   "outputs": [],
   "source": [
    "print(ds.field_list)"
   ]
  },
  {
   "cell_type": "code",
   "execution_count": null,
   "metadata": {},
   "outputs": [],
   "source": [
    "s = yt.SlicePlot(ds, 'z', 'phi_1_Re', origin='native')\n",
    "s.set_log('phi_1_Re', False)\n",
    "s.show()"
   ]
  },
  {
   "cell_type": "code",
   "execution_count": null,
   "metadata": {},
   "outputs": [],
   "source": [
    "s = yt.SlicePlot(ds, 'z', 'eta_1', origin='native')\n",
    "s.set_log('eta_1', False)\n",
    "s.show()"
   ]
  },
  {
   "cell_type": "code",
   "execution_count": null,
   "metadata": {},
   "outputs": [],
   "source": [
    "ad = ds.all_data()\n",
    "print(ad.quantities.extrema(\"eta_1\"))"
   ]
  },
  {
   "cell_type": "code",
   "execution_count": null,
   "metadata": {},
   "outputs": [],
   "source": [
    "cg = ds.covering_grid(left_edge=ds.domain_left_edge, dims=ds.domain_dimensions, level=0)\n",
    "coords = cg.fcoords\n",
    "\n",
    "xs = coords[:,0]\n",
    "ys = coords[:,1]\n",
    "ts = coords[:,2]\n",
    "\n",
    "dx = np.max(xs[1:] - xs[:-1])\n",
    "dy = np.max(ys[1:] - ys[:-1])\n",
    "dt = np.max(ts[1:] - ts[:-1])\n",
    "\n",
    "phi_1_Re = cg[\"phi_1_Re\"][:,:,:].d\n",
    "phi_1_Im = cg[\"phi_1_Im\"][:,:,:].d\n",
    "phi_2_Re = cg[\"phi_2_Re\"][:,:,:].d\n",
    "phi_2_Im = cg[\"phi_2_Im\"][:,:,:].d"
   ]
  },
  {
   "cell_type": "code",
   "execution_count": null,
   "metadata": {},
   "outputs": [],
   "source": [
    "def get_fields(i,j,k):\n",
    "    return phi_1_Re[i,j,k], phi_1_Im[i,j,k], phi_2_Re[i,j,k], phi_2_Im[i,j,k]"
   ]
  },
  {
   "cell_type": "code",
   "execution_count": null,
   "metadata": {},
   "outputs": [],
   "source": [
    "dx = (ds.domain_right_edge - ds.domain_left_edge)/ds.domain_dimensions\n",
    "dx"
   ]
  },
  {
   "cell_type": "code",
   "execution_count": null,
   "metadata": {},
   "outputs": [],
   "source": [
    "center = 0.5*(ds.domain_right_edge + ds.domain_left_edge)\n",
    "center"
   ]
  },
  {
   "cell_type": "code",
   "execution_count": null,
   "metadata": {},
   "outputs": [],
   "source": [
    "for f in ds.field_list:\n",
    "    si = yt.SlicePlot(ds, 'z', f, center=center)\n",
    "    si.save(\"{}_{}.png\".format(filename, f[1]))"
   ]
  }
 ],
 "metadata": {
  "kernelspec": {
   "display_name": "Python 3",
   "language": "python",
   "name": "python3"
  },
  "language_info": {
   "codemirror_mode": {
    "name": "ipython",
    "version": 3
   },
   "file_extension": ".py",
   "mimetype": "text/x-python",
   "name": "python",
   "nbconvert_exporter": "python",
   "pygments_lexer": "ipython3",
   "version": "3.8.2"
  }
 },
 "nbformat": 4,
 "nbformat_minor": 4
}
