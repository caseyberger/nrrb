{
 "cells": [
  {
   "cell_type": "code",
   "execution_count": 1,
   "metadata": {},
   "outputs": [],
   "source": [
    "import yt\n",
    "import numpy as np\n",
    "from abc import ABC"
   ]
  },
  {
   "cell_type": "code",
   "execution_count": 2,
   "metadata": {},
   "outputs": [],
   "source": [
    "class CL_Analysis(ABC):\n",
    "    def Theta(self, i, j, k):\n",
    "        phi_1_Re, phi_1_Im, phi_2_Re, phi_2_Im = self.get_fields(i, j, k)\n",
    "        return np.arctan((phi_1_Im + phi_2_Re)/(phi_1_Re - phi_2_Im))\n",
    "    \n",
    "    def Circulation(self, radius):\n",
    "        center_i = int(self.domain_dimensions[0]/2)\n",
    "        center_j = int(self.domain_dimensions[1]/2)\n",
    "        center_k = int(self.domain_dimensions[2]/2)\n",
    "\n",
    "        circulation = 0\n",
    "\n",
    "        i_left = center_i - radius\n",
    "        i_right = center_i + radius\n",
    "        j_bottom = center_j - radius\n",
    "        j_top = center_j + radius\n",
    "\n",
    "        for j in range(self.domain_dimensions[1]):\n",
    "            # Left side of loop except top left corner\n",
    "            if j >= j_bottom and j < j_top:\n",
    "                tdiff = self.Theta(i_left, j+1, center_k) - self.Theta(i_left, j, center_k)\n",
    "                print(\"adding ({}, {}): {}\".format(i_left, j, tdiff))\n",
    "                circulation += tdiff\n",
    "\n",
    "            # Top left corner of loop\n",
    "            elif j == j_top:\n",
    "                tdiff = self.Theta(i_left+1, j, center_k) - self.Theta(i_left, j, center_k)\n",
    "                print(\"adding ({}, {}): {}\".format(i_left, j, tdiff))\n",
    "                circulation += tdiff\n",
    "                \n",
    "            # Right side of loop except bottom right corner\n",
    "            if j > j_bottom and j <= j_top:\n",
    "                tdiff = self.Theta(i_right, j-1, center_k) - self.Theta(i_right, j, center_k)\n",
    "                print(\"adding ({}, {}): {}\".format(i_right, j, tdiff))\n",
    "                circulation += tdiff\n",
    "    \n",
    "            # Bottom right corner of loop\n",
    "            elif j == j_bottom:\n",
    "                tdiff = self.Theta(i_right-1, j, center_k) - self.Theta(i_right, j, center_k)\n",
    "                print(\"adding ({}, {}): {}\".format(i_right, j, tdiff))\n",
    "                circulation += tdiff\n",
    "\n",
    "        for i in range(self.domain_dimensions[0]):\n",
    "            # Top and Bottom sides of loop except corners\n",
    "            if i > i_left and i < i_right:\n",
    "                tdiff = self.Theta(i+1, j_top, center_k) - self.Theta(i, j_top, center_k)\n",
    "                circulation += tdiff\n",
    "                print(\"adding ({}, {}): {}\".format(i, j_top, tdiff))\n",
    "\n",
    "                tdiff = self.Theta(i-1, j_bottom, center_k) - self.Theta(i, j_bottom, center_k)\n",
    "                circulation += tdiff\n",
    "                print(\"adding ({}, {}): {}\".format(i, j_bottom, tdiff))\n",
    "\n",
    "        circulation = circulation/(8. * np.arctan(1.0))\n",
    "        return circulation"
   ]
  },
  {
   "cell_type": "code",
   "execution_count": 3,
   "metadata": {},
   "outputs": [],
   "source": [
    "class AMReX_CL_Data(CL_Analysis):\n",
    "    def __init__(self, plotfile):\n",
    "        ds = yt.load(plotfile)\n",
    "        cg = ds.covering_grid(left_edge=ds.domain_left_edge, dims=ds.domain_dimensions, level=0)\n",
    "        coords = cg.fcoords\n",
    "        \n",
    "        self.domain_dimensions = ds.domain_dimensions\n",
    "\n",
    "        xs = coords[:,0]\n",
    "        ys = coords[:,1]\n",
    "        ts = coords[:,2]\n",
    "\n",
    "        self.dx = np.max(xs[1:] - xs[:-1])\n",
    "        self.dy = np.max(ys[1:] - ys[:-1])\n",
    "        self.dt = np.max(ts[1:] - ts[:-1])\n",
    "\n",
    "        self.phi_1_Re = cg[\"phi_1_Re\"][:,:,:].d\n",
    "        self.phi_1_Im = cg[\"phi_1_Im\"][:,:,:].d\n",
    "        self.phi_2_Re = cg[\"phi_2_Re\"][:,:,:].d\n",
    "        self.phi_2_Im = cg[\"phi_2_Im\"][:,:,:].d\n",
    "\n",
    "    def get_fields(self, i,j,k):\n",
    "        return self.phi_1_Re[i,j,k], self.phi_1_Im[i,j,k], self.phi_2_Re[i,j,k], self.phi_2_Im[i,j,k]"
   ]
  },
  {
   "cell_type": "code",
   "execution_count": 4,
   "metadata": {},
   "outputs": [],
   "source": [
    "class NRRB_CL_Data(CL_Analysis):\n",
    "    def __init__(self, filename):\n",
    "        # Read lattice save file\n",
    "        f_in = open(filename, \"r\")\n",
    "\n",
    "        # Read 2 header lines\n",
    "        f_in.readline()\n",
    "        f_in.readline()\n",
    "\n",
    "        data_dict = {}\n",
    "\n",
    "        xcoord = []\n",
    "        ycoord = []\n",
    "        tcoord = []\n",
    "        \n",
    "        # Read cell & field values from file\n",
    "        for l in f_in:\n",
    "            ls = l.strip().split()\n",
    "            coords = ls[0][1:-1].split(',')\n",
    "            \n",
    "            x = int(coords[0])\n",
    "            if not x in xcoord:\n",
    "                xcoord.append(x)\n",
    "                \n",
    "            y = int(coords[1])\n",
    "            if not y in ycoord:\n",
    "                ycoord.append(y)\n",
    "                \n",
    "            t = int(coords[2])\n",
    "            if not t in tcoord:\n",
    "                tcoord.append(t)\n",
    "                \n",
    "            p1_Re = float(ls[1])\n",
    "            p1_Im = float(ls[2])\n",
    "            p2_Re = float(ls[3])\n",
    "            p2_Im = float(ls[4])\n",
    "            data_dict[(x,y,t)] = (p1_Re, p1_Im, p2_Re, p2_Im)\n",
    "\n",
    "        f_in.close()\n",
    "        self.data = data_dict\n",
    "        self.domain_dimensions = [len(xcoord), len(ycoord), len(tcoord)]\n",
    "      \n",
    "    def get_fields(self, i, j, k):\n",
    "        return self.data[(i, j, k)]"
   ]
  },
  {
   "cell_type": "code",
   "execution_count": 5,
   "metadata": {},
   "outputs": [],
   "source": [
    "# The following lattice files were generated compiling the NRRB and AMReX-CL versions with USE_TEST_CONSTANT_RNG=TRUE\n",
    "amrex_cl_filename = \"plt00001\"\n",
    "nrrb_filename = \"../../field_configs/v4_mu_-0.100_w_0.100_Nx_21_nL_1_field_config.txt\""
   ]
  },
  {
   "cell_type": "code",
   "execution_count": 6,
   "metadata": {},
   "outputs": [
    {
     "name": "stderr",
     "output_type": "stream",
     "text": [
      "yt : [INFO     ] 2020-02-06 12:38:44,016 Parameters: current_time              = 0.01\n",
      "yt : [INFO     ] 2020-02-06 12:38:44,020 Parameters: domain_dimensions         = [21 21 80]\n",
      "yt : [INFO     ] 2020-02-06 12:38:44,023 Parameters: domain_left_edge          = [0. 0. 0.]\n",
      "yt : [INFO     ] 2020-02-06 12:38:44,027 Parameters: domain_right_edge         = [21. 21. 80.]\n"
     ]
    }
   ],
   "source": [
    "amrex_cl = AMReX_CL_Data(amrex_cl_filename)\n",
    "nrrb = NRRB_CL_Data(nrrb_filename)"
   ]
  },
  {
   "cell_type": "code",
   "execution_count": 7,
   "metadata": {},
   "outputs": [
    {
     "name": "stdout",
     "output_type": "stream",
     "text": [
      "adding (8, 8): 6.815422950445793e-07\n",
      "adding (12, 8): 6.815422950445793e-07\n",
      "adding (8, 9): 2.2717644720948726e-07\n",
      "adding (12, 9): -6.815422950445793e-07\n",
      "adding (8, 10): -2.2717644720948726e-07\n",
      "adding (12, 10): -2.2717644720948726e-07\n",
      "adding (8, 11): -6.815422950445793e-07\n",
      "adding (12, 11): 2.2717644720948726e-07\n",
      "adding (8, 12): 6.815422950445793e-07\n",
      "adding (12, 12): 6.815422950445793e-07\n",
      "adding (9, 12): 2.2717644720948726e-07\n",
      "adding (9, 8): -6.815422950445793e-07\n",
      "adding (10, 12): -2.2717644720948726e-07\n",
      "adding (10, 8): -2.2717644720948726e-07\n",
      "adding (11, 12): -6.815422950445793e-07\n",
      "adding (11, 8): 2.2717644720948726e-07\n",
      "0.0\n"
     ]
    }
   ],
   "source": [
    "amrex_circ = amrex_cl.Circulation(2)\n",
    "print(amrex_circ)"
   ]
  },
  {
   "cell_type": "code",
   "execution_count": 8,
   "metadata": {},
   "outputs": [
    {
     "name": "stdout",
     "output_type": "stream",
     "text": [
      "adding (8, 8): 7.951309770604098e-07\n",
      "adding (12, 8): 7.951309770604098e-07\n",
      "adding (8, 9): 1.1358798057692354e-07\n",
      "adding (12, 9): -7.951309770604098e-07\n",
      "adding (8, 10): -1.1358798057692354e-07\n",
      "adding (12, 10): -1.1358798057692354e-07\n",
      "adding (8, 11): -7.951309770604098e-07\n",
      "adding (12, 11): 1.1358798057692354e-07\n",
      "adding (8, 12): 7.951309770604098e-07\n",
      "adding (12, 12): 7.951309770604098e-07\n",
      "adding (9, 12): 1.1358798057692354e-07\n",
      "adding (9, 8): -7.951309770604098e-07\n",
      "adding (10, 12): -1.1358798057692354e-07\n",
      "adding (10, 8): -1.1358798057692354e-07\n",
      "adding (11, 12): -7.951309770604098e-07\n",
      "adding (11, 8): 1.1358798057692354e-07\n",
      "0.0\n"
     ]
    }
   ],
   "source": [
    "nrrb_circ = nrrb.Circulation(2)\n",
    "print(nrrb_circ)"
   ]
  },
  {
   "cell_type": "code",
   "execution_count": 9,
   "metadata": {},
   "outputs": [
    {
     "name": "stdout",
     "output_type": "stream",
     "text": [
      "0.0\n"
     ]
    }
   ],
   "source": [
    "print(amrex_circ - nrrb_circ)"
   ]
  },
  {
   "cell_type": "code",
   "execution_count": null,
   "metadata": {},
   "outputs": [],
   "source": []
  }
 ],
 "metadata": {
  "kernelspec": {
   "display_name": "Python 3",
   "language": "python",
   "name": "python3"
  },
  "language_info": {
   "codemirror_mode": {
    "name": "ipython",
    "version": 3
   },
   "file_extension": ".py",
   "mimetype": "text/x-python",
   "name": "python",
   "nbconvert_exporter": "python",
   "pygments_lexer": "ipython3",
   "version": "3.7.3"
  }
 },
 "nbformat": 4,
 "nbformat_minor": 4
}
