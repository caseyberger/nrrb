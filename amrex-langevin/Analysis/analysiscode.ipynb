{
 "cells": [
  {
   "cell_type": "code",
   "execution_count": 1,
   "metadata": {},
   "outputs": [],
   "source": [
    "import yt\n",
    "import numpy as np\n",
    "import os\n",
    "import pandas as pd"
   ]
  },
  {
   "cell_type": "code",
   "execution_count": 2,
   "metadata": {},
   "outputs": [],
   "source": [
    "curr_dir = os.getcwd()+\"/\""
   ]
  },
  {
   "cell_type": "code",
   "execution_count": 3,
   "metadata": {},
   "outputs": [],
   "source": [
    "def extract_parameters(input_filename):\n",
    "    input_file = curr_dir+\"/mu_-0.2/\"+input_filename\n",
    "    fo = open(input_file, \"r\")\n",
    "    parameters = dict()\n",
    "    for line in fo.readlines():\n",
    "        #print(line)\n",
    "        if line.startswith(\"nsteps\"):\n",
    "            temp = line.split()\n",
    "            parameters[\"nL\"] = int(temp[-1])\n",
    "        elif line.startswith(\"n_cell\"):\n",
    "            temp = line.split()\n",
    "            parameters[\"Nx\"] = int(temp[2])\n",
    "            parameters[\"Nt\"] = int(temp[-1])\n",
    "        elif line.startswith(\"nrrb.l\"):\n",
    "            temp = line.split()\n",
    "            parameters[\"lambda\"] = float(temp[-1])\n",
    "        elif line.startswith(\"nrrb.mu\"):\n",
    "            temp = line.split()\n",
    "            parameters[\"mu\"] = float(temp[-1])\n",
    "        elif line.startswith(\"nrrb.m\"):\n",
    "            temp = line.split()\n",
    "            parameters[\"m\"] = float(temp[-1])\n",
    "        elif line.startswith(\"nrrb.w\"):\n",
    "            temp = line.split()\n",
    "            if temp[0] == \"nrrb.w_t\":\n",
    "                parameters[\"wtr\"] = float(temp[-1])\n",
    "            else:\n",
    "                parameters[\"wz\"] = float(temp[-1])\n",
    "        elif line.startswith(\"nrrb.dtau\"):\n",
    "            temp = line.split()\n",
    "            parameters[\"dt\"] = float(temp[-1])\n",
    "        elif line.startswith(\"nrrb.eps\"):\n",
    "            temp = line.split()\n",
    "            parameters[\"eps\"] = float(temp[-1])\n",
    "    parameters[\"beta\"] = parameters[\"dt\"]*parameters[\"Nt\"]\n",
    "    fo.close()\n",
    "    return parameters"
   ]
  },
  {
   "cell_type": "code",
   "execution_count": 4,
   "metadata": {},
   "outputs": [],
   "source": [
    "def find_missing_files(all_steps, all_plotfiles):\n",
    "    missing = []\n",
    "    for step in all_steps:\n",
    "        if step not in all_plotfiles:\n",
    "            missing.append(step)\n",
    "    return missing"
   ]
  },
  {
   "cell_type": "code",
   "execution_count": 5,
   "metadata": {},
   "outputs": [],
   "source": [
    "def make_file_lists(subdir):\n",
    "    all_files = os.listdir(subdir)\n",
    "    all_plotfiles = []\n",
    "    for filename in all_files:\n",
    "        if filename.startswith(\"inputs\"):\n",
    "            input_filename = filename\n",
    "    for pltfile in all_files:\n",
    "        if pltfile.startswith(\"plt\"):\n",
    "            all_plotfiles.append(int(pltfile[3:]))\n",
    "    parameters = extract_parameters(input_filename)\n",
    "    nL = parameters['nL']\n",
    "    all_steps = np.arange(0,nL,1)\n",
    "    return input_filename, all_plotfiles, all_steps, parameters"
   ]
  },
  {
   "cell_type": "code",
   "execution_count": 6,
   "metadata": {},
   "outputs": [],
   "source": [
    "class GridData(object):\n",
    "    def __init__(self, ds):\n",
    "        # store data arrays for the dataset\n",
    "        cg = ds.covering_grid(left_edge=ds.domain_left_edge, dims=ds.domain_dimensions, level=0)\n",
    "        coords = cg.fcoords\n",
    "\n",
    "        xs = coords[:,0]\n",
    "        ys = coords[:,1]\n",
    "        ts = coords[:,2]\n",
    "\n",
    "        self.dx = np.max(xs[1:] - xs[:-1])\n",
    "        self.dy = np.max(ys[1:] - ys[:-1])\n",
    "        self.dt = np.max(ts[1:] - ts[:-1])\n",
    "\n",
    "        self.phi_1_Re = cg[\"phi_1_Re\"][:,:,:].d\n",
    "        self.phi_1_Im = cg[\"phi_1_Im\"][:,:,:].d\n",
    "        self.phi_2_Re = cg[\"phi_2_Re\"][:,:,:].d\n",
    "        self.phi_2_Im = cg[\"phi_2_Im\"][:,:,:].d\n",
    "\n",
    "    def get_fields(self,i,j,t):\n",
    "        return complex(self.phi_1_Re[i,j,t], self.phi_1_Im[i,j,t]), complex(self.phi_2_Re[i,j,t], self.phi_2_Im[i,j,t])"
   ]
  },
  {
   "cell_type": "markdown",
   "metadata": {},
   "source": [
    "Average density: $\\langle \\hat{n} \\rangle = \\frac{1}{N_{x}^{d}}\\sum_{x}n_{x}$\n",
    "\n",
    "where $n_{x}$ is the local density: $n_{x}= \\frac{1}{2 N_{\\tau}}e^{\\beta \\mu/N_{\\tau}}(\\phi_{1,x}-i \\phi_{2,x})(\\phi_{1,x-\\hat{\\tau}}+i \\phi_{2,x-\\hat{\\tau}})$\n",
    "\n",
    "Using our four complexified fields:\n",
    "\\begin{eqnarray}\n",
    "n_{x} &=& \\frac{1}{2 N_{\\tau}}e^{\\beta \\mu/N_{\\tau}}(\\phi_{1,x}^{R} + i \\phi_{1,x}^{I}-i \\phi_{2,x}^{R} +\\phi_{2,x}^{I})(\\phi_{1,x-\\hat{\\tau}}^{R} + i \\phi_{1,x-\\hat{\\tau}}^{I} +i \\phi_{2,x-\\hat{\\tau}}^{R} - \\phi_{2,x-\\hat{\\tau}}^{I})\\\\\n",
    "&=& \\frac{1}{2 N_{\\tau}}e^{\\beta \\mu/N_{\\tau}}(\\phi_{1,x}^{R} + i \\phi_{1,x}^{I}-i \\phi_{2,x}^{R} +\\phi_{2,x}^{I})(\\phi_{1,x-\\hat{\\tau}}^{R} + i \\phi_{1,x-\\hat{\\tau}}^{I} +i \\phi_{2,x-\\hat{\\tau}}^{R} - \\phi_{2,x-\\hat{\\tau}}^{I})\n",
    "\\end{eqnarray}\n",
    "\n",
    "Question for self: do you need to average over all t?\n",
    "\n",
    "Figure out how to deal with boundary conditions"
   ]
  },
  {
   "cell_type": "code",
   "execution_count": 7,
   "metadata": {},
   "outputs": [],
   "source": [
    "def local_density(gd, i, j, Nt, beta, mu):\n",
    "    n = complex(0.,0.)\n",
    "    for t in np.arange(1,Nt):\n",
    "        phi1,phi2 = gd.get_fields(i,j,t)\n",
    "        phi1t,phi2t = gd.get_fields(i,j,t-1)\n",
    "        n += complex(phi1, -phi2)*complex(phi1t, -phi2t)\n",
    "    phi1,phi2 = gd.get_fields(i,j,0)\n",
    "    phi1t,phi2t = gd.get_fields(i,j,Nt-1)\n",
    "    n += complex(phi1, -phi2)*complex(phi1t, -phi2t)\n",
    "    return 0.5*np.exp(-beta*mu/float(Nt))*n/float(Nt)\n",
    "\n",
    "def total_density(gd, Nx, Nt, beta, mu):\n",
    "    ntot = complex(0.,0.)\n",
    "    volume = Nx**2\n",
    "    for i in np.arange(0,Nx):\n",
    "        for j in np.arange(0,Nx):\n",
    "            ntot += local_density(gd, i, j, Nt, beta, mu)\n",
    "    return ntot/volume"
   ]
  },
  {
   "cell_type": "code",
   "execution_count": 13,
   "metadata": {},
   "outputs": [
    {
     "name": "stderr",
     "output_type": "stream",
     "text": [
      "yt : [INFO     ] 2020-01-14 19:09:20,173 Parameters: current_time              = 0.0\n",
      "yt : [INFO     ] 2020-01-14 19:09:20,174 Parameters: domain_dimensions         = [21 21 80]\n",
      "yt : [INFO     ] 2020-01-14 19:09:20,175 Parameters: domain_left_edge          = [0. 0. 0.]\n",
      "yt : [INFO     ] 2020-01-14 19:09:20,176 Parameters: domain_right_edge         = [21. 21. 80.]\n",
      "yt : [INFO     ] 2020-01-14 19:09:20,603 Parameters: current_time              = 0.001\n",
      "yt : [INFO     ] 2020-01-14 19:09:20,604 Parameters: domain_dimensions         = [21 21 80]\n",
      "yt : [INFO     ] 2020-01-14 19:09:20,605 Parameters: domain_left_edge          = [0. 0. 0.]\n",
      "yt : [INFO     ] 2020-01-14 19:09:20,606 Parameters: domain_right_edge         = [21. 21. 80.]\n",
      "yt : [INFO     ] 2020-01-14 19:09:21,043 Parameters: current_time              = 0.002\n",
      "yt : [INFO     ] 2020-01-14 19:09:21,044 Parameters: domain_dimensions         = [21 21 80]\n",
      "yt : [INFO     ] 2020-01-14 19:09:21,046 Parameters: domain_left_edge          = [0. 0. 0.]\n",
      "yt : [INFO     ] 2020-01-14 19:09:21,047 Parameters: domain_right_edge         = [21. 21. 80.]\n",
      "yt : [INFO     ] 2020-01-14 19:09:21,561 Parameters: current_time              = 0.003\n",
      "yt : [INFO     ] 2020-01-14 19:09:21,562 Parameters: domain_dimensions         = [21 21 80]\n",
      "yt : [INFO     ] 2020-01-14 19:09:21,563 Parameters: domain_left_edge          = [0. 0. 0.]\n",
      "yt : [INFO     ] 2020-01-14 19:09:21,564 Parameters: domain_right_edge         = [21. 21. 80.]\n",
      "yt : [INFO     ] 2020-01-14 19:09:21,987 Parameters: current_time              = 0.004\n",
      "yt : [INFO     ] 2020-01-14 19:09:21,988 Parameters: domain_dimensions         = [21 21 80]\n",
      "yt : [INFO     ] 2020-01-14 19:09:21,989 Parameters: domain_left_edge          = [0. 0. 0.]\n",
      "yt : [INFO     ] 2020-01-14 19:09:21,991 Parameters: domain_right_edge         = [21. 21. 80.]\n",
      "yt : [INFO     ] 2020-01-14 19:09:22,497 Parameters: current_time              = 0.005\n",
      "yt : [INFO     ] 2020-01-14 19:09:22,498 Parameters: domain_dimensions         = [21 21 80]\n",
      "yt : [INFO     ] 2020-01-14 19:09:22,499 Parameters: domain_left_edge          = [0. 0. 0.]\n",
      "yt : [INFO     ] 2020-01-14 19:09:22,501 Parameters: domain_right_edge         = [21. 21. 80.]\n",
      "yt : [INFO     ] 2020-01-14 19:09:22,963 Parameters: current_time              = 0.006\n",
      "yt : [INFO     ] 2020-01-14 19:09:22,963 Parameters: domain_dimensions         = [21 21 80]\n",
      "yt : [INFO     ] 2020-01-14 19:09:22,964 Parameters: domain_left_edge          = [0. 0. 0.]\n",
      "yt : [INFO     ] 2020-01-14 19:09:22,971 Parameters: domain_right_edge         = [21. 21. 80.]\n",
      "yt : [INFO     ] 2020-01-14 19:09:23,514 Parameters: current_time              = 0.007\n",
      "yt : [INFO     ] 2020-01-14 19:09:23,515 Parameters: domain_dimensions         = [21 21 80]\n",
      "yt : [INFO     ] 2020-01-14 19:09:23,517 Parameters: domain_left_edge          = [0. 0. 0.]\n",
      "yt : [INFO     ] 2020-01-14 19:09:23,522 Parameters: domain_right_edge         = [21. 21. 80.]\n",
      "yt : [INFO     ] 2020-01-14 19:09:24,029 Parameters: current_time              = 0.008\n",
      "yt : [INFO     ] 2020-01-14 19:09:24,030 Parameters: domain_dimensions         = [21 21 80]\n",
      "yt : [INFO     ] 2020-01-14 19:09:24,031 Parameters: domain_left_edge          = [0. 0. 0.]\n",
      "yt : [INFO     ] 2020-01-14 19:09:24,036 Parameters: domain_right_edge         = [21. 21. 80.]\n",
      "yt : [INFO     ] 2020-01-14 19:09:24,603 Parameters: current_time              = 0.009000000000000001\n",
      "yt : [INFO     ] 2020-01-14 19:09:24,605 Parameters: domain_dimensions         = [21 21 80]\n",
      "yt : [INFO     ] 2020-01-14 19:09:24,606 Parameters: domain_left_edge          = [0. 0. 0.]\n",
      "yt : [INFO     ] 2020-01-14 19:09:24,607 Parameters: domain_right_edge         = [21. 21. 80.]\n",
      "yt : [INFO     ] 2020-01-14 19:09:25,123 Parameters: current_time              = 0.010000000000000002\n",
      "yt : [INFO     ] 2020-01-14 19:09:25,124 Parameters: domain_dimensions         = [21 21 80]\n",
      "yt : [INFO     ] 2020-01-14 19:09:25,125 Parameters: domain_left_edge          = [0. 0. 0.]\n",
      "yt : [INFO     ] 2020-01-14 19:09:25,126 Parameters: domain_right_edge         = [21. 21. 80.]\n"
     ]
    },
    {
     "ename": "UnboundLocalError",
     "evalue": "local variable 'input_filename' referenced before assignment",
     "output_type": "error",
     "traceback": [
      "\u001b[0;31m---------------------------------------------------------------------------\u001b[0m",
      "\u001b[0;31mUnboundLocalError\u001b[0m                         Traceback (most recent call last)",
      "\u001b[0;32m<ipython-input-13-b95bb8a9feab>\u001b[0m in \u001b[0;36m<module>\u001b[0;34m()\u001b[0m\n\u001b[1;32m      6\u001b[0m     \u001b[0mwork_dir\u001b[0m \u001b[0;34m=\u001b[0m \u001b[0mcurr_dir\u001b[0m\u001b[0;34m+\u001b[0m\u001b[0msubdir\u001b[0m\u001b[0;34m\u001b[0m\u001b[0m\n\u001b[1;32m      7\u001b[0m     \u001b[0;32mif\u001b[0m \u001b[0mos\u001b[0m\u001b[0;34m.\u001b[0m\u001b[0mpath\u001b[0m\u001b[0;34m.\u001b[0m\u001b[0misdir\u001b[0m\u001b[0;34m(\u001b[0m\u001b[0mwork_dir\u001b[0m\u001b[0;34m)\u001b[0m\u001b[0;34m:\u001b[0m\u001b[0;34m\u001b[0m\u001b[0m\n\u001b[0;32m----> 8\u001b[0;31m         \u001b[0minput_filename\u001b[0m\u001b[0;34m,\u001b[0m \u001b[0mplotfiles\u001b[0m\u001b[0;34m,\u001b[0m \u001b[0msteps\u001b[0m\u001b[0;34m,\u001b[0m \u001b[0mparams\u001b[0m \u001b[0;34m=\u001b[0m \u001b[0mmake_file_lists\u001b[0m\u001b[0;34m(\u001b[0m\u001b[0msubdir\u001b[0m\u001b[0;34m)\u001b[0m\u001b[0;34m\u001b[0m\u001b[0m\n\u001b[0m\u001b[1;32m      9\u001b[0m         \u001b[0mnL_str\u001b[0m \u001b[0;34m=\u001b[0m \u001b[0mstr\u001b[0m\u001b[0;34m(\u001b[0m\u001b[0mparams\u001b[0m\u001b[0;34m[\u001b[0m\u001b[0;34m\"nL\"\u001b[0m\u001b[0;34m]\u001b[0m\u001b[0;34m)\u001b[0m\u001b[0;34m\u001b[0m\u001b[0m\n\u001b[1;32m     10\u001b[0m         \u001b[0mnL\u001b[0m \u001b[0;34m=\u001b[0m \u001b[0;36m10\u001b[0m \u001b[0;31m#params['nL']\u001b[0m\u001b[0;34m\u001b[0m\u001b[0m\n",
      "\u001b[0;32m<ipython-input-5-b24940c3e56c>\u001b[0m in \u001b[0;36mmake_file_lists\u001b[0;34m(subdir)\u001b[0m\n\u001b[1;32m      8\u001b[0m         \u001b[0;32mif\u001b[0m \u001b[0mpltfile\u001b[0m\u001b[0;34m.\u001b[0m\u001b[0mstartswith\u001b[0m\u001b[0;34m(\u001b[0m\u001b[0;34m\"plt\"\u001b[0m\u001b[0;34m)\u001b[0m\u001b[0;34m:\u001b[0m\u001b[0;34m\u001b[0m\u001b[0m\n\u001b[1;32m      9\u001b[0m             \u001b[0mall_plotfiles\u001b[0m\u001b[0;34m.\u001b[0m\u001b[0mappend\u001b[0m\u001b[0;34m(\u001b[0m\u001b[0mint\u001b[0m\u001b[0;34m(\u001b[0m\u001b[0mpltfile\u001b[0m\u001b[0;34m[\u001b[0m\u001b[0;36m3\u001b[0m\u001b[0;34m:\u001b[0m\u001b[0;34m]\u001b[0m\u001b[0;34m)\u001b[0m\u001b[0;34m)\u001b[0m\u001b[0;34m\u001b[0m\u001b[0m\n\u001b[0;32m---> 10\u001b[0;31m     \u001b[0mparameters\u001b[0m \u001b[0;34m=\u001b[0m \u001b[0mextract_parameters\u001b[0m\u001b[0;34m(\u001b[0m\u001b[0minput_filename\u001b[0m\u001b[0;34m)\u001b[0m\u001b[0;34m\u001b[0m\u001b[0m\n\u001b[0m\u001b[1;32m     11\u001b[0m     \u001b[0mnL\u001b[0m \u001b[0;34m=\u001b[0m \u001b[0mparameters\u001b[0m\u001b[0;34m[\u001b[0m\u001b[0;34m'nL'\u001b[0m\u001b[0;34m]\u001b[0m\u001b[0;34m\u001b[0m\u001b[0m\n\u001b[1;32m     12\u001b[0m     \u001b[0mall_steps\u001b[0m \u001b[0;34m=\u001b[0m \u001b[0mnp\u001b[0m\u001b[0;34m.\u001b[0m\u001b[0marange\u001b[0m\u001b[0;34m(\u001b[0m\u001b[0;36m0\u001b[0m\u001b[0;34m,\u001b[0m\u001b[0mnL\u001b[0m\u001b[0;34m,\u001b[0m\u001b[0;36m1\u001b[0m\u001b[0;34m)\u001b[0m\u001b[0;34m\u001b[0m\u001b[0m\n",
      "\u001b[0;31mUnboundLocalError\u001b[0m: local variable 'input_filename' referenced before assignment"
     ]
    }
   ],
   "source": [
    "subdirectories = os.listdir(curr_dir)\n",
    "df = pd.DataFrame(columns=['step','density'])\n",
    "step_arr = []\n",
    "dens_arr = []\n",
    "for subdir in subdirectories:\n",
    "    work_dir = curr_dir+subdir\n",
    "    if os.path.isdir(work_dir):\n",
    "        input_filename, plotfiles, steps, params = make_file_lists(subdir)\n",
    "        nL_str = str(params[\"nL\"])\n",
    "        nL = 10 #params['nL']\n",
    "        Nx = params['Nx']\n",
    "        Nt = params['Nt']\n",
    "        beta = params['beta']\n",
    "        mu = params['mu']\n",
    "        wz = params['wz']\n",
    "        wtr = params['wtr']\n",
    "        l = params['lambda']\n",
    "        for step in np.arange(0,nL+1): #for step in steps:\n",
    "            filename = \"plt\"+str(step).zfill(len(nL_str)-1)\n",
    "            ds = yt.load(work_dir+\"/\"+filename)\n",
    "            gd = GridData(ds)\n",
    "            N = total_density(gd, Nx, Nt, beta, mu)\n",
    "            step_arr.append(step)\n",
    "            dens_arr.append(N)\n",
    "            df = df.append({'step': step, 'density': N}, ignore_index=True)\n",
    "    else:\n",
    "        pass\n",
    "df[['step']] = df[['step']].astype(int)"
   ]
  },
  {
   "cell_type": "code",
   "execution_count": null,
   "metadata": {},
   "outputs": [],
   "source": [
    "for s, N in zip(step_arr, dens_arr):\n",
    "    print(\"{}: {}\".format(s,N))"
   ]
  },
  {
   "cell_type": "code",
   "execution_count": 14,
   "metadata": {},
   "outputs": [
    {
     "data": {
      "text/html": [
       "<div>\n",
       "<style scoped>\n",
       "    .dataframe tbody tr th:only-of-type {\n",
       "        vertical-align: middle;\n",
       "    }\n",
       "\n",
       "    .dataframe tbody tr th {\n",
       "        vertical-align: top;\n",
       "    }\n",
       "\n",
       "    .dataframe thead th {\n",
       "        text-align: right;\n",
       "    }\n",
       "</style>\n",
       "<table border=\"1\" class=\"dataframe\">\n",
       "  <thead>\n",
       "    <tr style=\"text-align: right;\">\n",
       "      <th></th>\n",
       "      <th>step</th>\n",
       "      <th>density</th>\n",
       "    </tr>\n",
       "  </thead>\n",
       "  <tbody>\n",
       "    <tr>\n",
       "      <th>0</th>\n",
       "      <td>0j</td>\n",
       "      <td>(-0.0023894953363820864+0.0020966264018788265j)</td>\n",
       "    </tr>\n",
       "    <tr>\n",
       "      <th>1</th>\n",
       "      <td>(1+0j)</td>\n",
       "      <td>(-0.0026385907472054227+0.002099770830271272j)</td>\n",
       "    </tr>\n",
       "    <tr>\n",
       "      <th>2</th>\n",
       "      <td>(2+0j)</td>\n",
       "      <td>(-0.002399761033836866+0.001983534949230471j)</td>\n",
       "    </tr>\n",
       "    <tr>\n",
       "      <th>3</th>\n",
       "      <td>(3+0j)</td>\n",
       "      <td>(-0.0022511918084475216+0.0015490847786933822j)</td>\n",
       "    </tr>\n",
       "    <tr>\n",
       "      <th>4</th>\n",
       "      <td>(4+0j)</td>\n",
       "      <td>(-0.0021298563493369143+0.0012472469123865758j)</td>\n",
       "    </tr>\n",
       "  </tbody>\n",
       "</table>\n",
       "</div>"
      ],
      "text/plain": [
       "     step                                          density\n",
       "0      0j  (-0.0023894953363820864+0.0020966264018788265j)\n",
       "1  (1+0j)   (-0.0026385907472054227+0.002099770830271272j)\n",
       "2  (2+0j)    (-0.002399761033836866+0.001983534949230471j)\n",
       "3  (3+0j)  (-0.0022511918084475216+0.0015490847786933822j)\n",
       "4  (4+0j)  (-0.0021298563493369143+0.0012472469123865758j)"
      ]
     },
     "execution_count": 14,
     "metadata": {},
     "output_type": "execute_result"
    }
   ],
   "source": [
    "df.head()"
   ]
  },
  {
   "cell_type": "code",
   "execution_count": null,
   "metadata": {},
   "outputs": [],
   "source": [
    "def calculate_observables(parameters, work_dir):\n",
    "    df = pd.DataFrame(columns=['step','N'])\n",
    "    for step in np.arange(1,nL+1):\n",
    "        filename = \"plt\"+str(step).zfill(5) \n",
    "        ds = yt.load(work_dir+filename)\n",
    "        gd = GridData(ds)\n",
    "        N = total_density(gd, Nx, Nt, beta, mu)\n",
    "        df.append({'step': step, 'density': N}, ignore_index=True)\n",
    "        step_arr.append(step)\n",
    "        dens_arr.append(N)"
   ]
  },
  {
   "cell_type": "code",
   "execution_count": null,
   "metadata": {},
   "outputs": [],
   "source": []
  }
 ],
 "metadata": {
  "kernelspec": {
   "display_name": "Python (amrex_cl)",
   "language": "python",
   "name": "amrex_cl"
  },
  "language_info": {
   "codemirror_mode": {
    "name": "ipython",
    "version": 3
   },
   "file_extension": ".py",
   "mimetype": "text/x-python",
   "name": "python",
   "nbconvert_exporter": "python",
   "pygments_lexer": "ipython3",
   "version": "3.5.6"
  }
 },
 "nbformat": 4,
 "nbformat_minor": 2
}
