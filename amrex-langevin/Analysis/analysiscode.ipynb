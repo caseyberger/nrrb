{
 "cells": [
  {
   "cell_type": "code",
   "execution_count": 1,
   "metadata": {},
   "outputs": [],
   "source": [
    "import yt\n",
    "import numpy as np\n",
    "import os\n",
    "import pandas as pd"
   ]
  },
  {
   "cell_type": "code",
   "execution_count": 2,
   "metadata": {},
   "outputs": [],
   "source": [
    "curr_dir = os.getcwd()\n",
    "all_files = os.listdir(curr_dir+\"/mu_-0.2/\")\n",
    "for filename in all_files:\n",
    "    if filename.startswith(\"inputs\"):\n",
    "        input_file = filename\n",
    "input_file = curr_dir+\"/mu_-0.2/\"+input_file\n",
    "fo = open(input_file, \"r\")"
   ]
  },
  {
   "cell_type": "code",
   "execution_count": 3,
   "metadata": {},
   "outputs": [
    {
     "name": "stdout",
     "output_type": "stream",
     "text": [
      "{'Nt': 80, 'Nx': 21, 'wz': 0.0, 'beta': 4.0, 'dt': 0.05, 'mu': -0.2, 'nL': 100000, 'eps': 0.001, 'lambda': 0.0, 'm': 1.0}\n"
     ]
    }
   ],
   "source": [
    "def extract_parameters(fo):\n",
    "    parameters = dict()\n",
    "    for line in fo.readlines():\n",
    "        if line.startswith(\"nsteps\"):\n",
    "            temp = line.split()\n",
    "            parameters[\"nL\"] = int(temp[-1])\n",
    "        elif line.startswith(\"n_cell\"):\n",
    "            temp = line.split()\n",
    "            parameters[\"Nx\"] = int(temp[2])\n",
    "            parameters[\"Nt\"] = int(temp[-1])\n",
    "        elif line.startswith(\"nrrb.l\"):\n",
    "            temp = line.split()\n",
    "            parameters[\"lambda\"] = float(temp[-1])\n",
    "        elif line.startswith(\"nrrb.mu\"):\n",
    "            temp = line.split()\n",
    "            parameters[\"mu\"] = float(temp[-1])\n",
    "        elif line.startswith(\"nrrb.m\"):\n",
    "            temp = line.split()\n",
    "            parameters[\"m\"] = float(temp[-1])\n",
    "        elif line.startswith(\"nrrb.w\"):\n",
    "            temp = line.split()\n",
    "            parameters[\"wz\"] = float(temp[-1])\n",
    "        elif line.startswith(\"nrrb.w_t\"):\n",
    "            temp = line.split()\n",
    "            parameters[\"wtr\"] = float(temp[-1])\n",
    "        elif line.startswith(\"nrrb.dtau\"):\n",
    "            temp = line.split()\n",
    "            parameters[\"dt\"] = float(temp[-1])\n",
    "        elif line.startswith(\"nrrb.eps\"):\n",
    "            temp = line.split()\n",
    "            parameters[\"eps\"] = float(temp[-1])\n",
    "    parameters[\"beta\"] = parameters[\"dt\"]*parameters[\"Nt\"]\n",
    "    return parameters\n",
    "\n",
    "parameters = extract_parameters(fo)\n",
    "print(parameters)"
   ]
  },
  {
   "cell_type": "code",
   "execution_count": 4,
   "metadata": {},
   "outputs": [],
   "source": [
    "nL = parameters['nL']\n",
    "all_steps = np.arange(1,nL+1,1)\n",
    "all_plotfiles = []\n",
    "for pltfile in all_files:\n",
    "    if pltfile.startswith(\"plt\"):\n",
    "        all_plotfiles.append(int(pltfile[3:]))\n",
    "#print(all_plotfiles)"
   ]
  },
  {
   "cell_type": "code",
   "execution_count": 5,
   "metadata": {},
   "outputs": [],
   "source": [
    "def find_missing_files(all_steps, all_plotfiles):\n",
    "    missing = []\n",
    "    for step in all_steps:\n",
    "        if step not in all_plotfiles:\n",
    "            missing.append(step)\n",
    "    return missing"
   ]
  },
  {
   "cell_type": "code",
   "execution_count": 6,
   "metadata": {},
   "outputs": [
    {
     "name": "stdout",
     "output_type": "stream",
     "text": [
      "0\n"
     ]
    }
   ],
   "source": [
    "#force nL to be smaller\n",
    "#nL = len(all_plotfiles)\n",
    "nL = 20\n",
    "missing = find_missing_files(np.arange(1,nL+1), all_plotfiles)\n",
    "print(len(missing))"
   ]
  },
  {
   "cell_type": "code",
   "execution_count": 7,
   "metadata": {},
   "outputs": [],
   "source": [
    "def get_fields(ds,i,j,t):\n",
    "    cg = ds.covering_grid(left_edge=ds.domain_left_edge, dims=ds.domain_dimensions, level=0)\n",
    "    coords = cg.fcoords\n",
    "\n",
    "    xs = coords[:,0]\n",
    "    ys = coords[:,1]\n",
    "    ts = coords[:,2]\n",
    "\n",
    "    dx = np.max(xs[1:] - xs[:-1])\n",
    "    dy = np.max(ys[1:] - ys[:-1])\n",
    "    dt = np.max(ts[1:] - ts[:-1])\n",
    "\n",
    "    phi_1_Re = cg[\"phi_1_Re\"][:,:,:].d\n",
    "    phi_1_Im = cg[\"phi_1_Im\"][:,:,:].d\n",
    "    phi_2_Re = cg[\"phi_2_Re\"][:,:,:].d\n",
    "    phi_2_Im = cg[\"phi_2_Im\"][:,:,:].d\n",
    "    \n",
    "    return complex(phi_1_Re[i,j,t], phi_1_Im[i,j,t]), complex(phi_2_Re[i,j,t], phi_2_Im[i,j,t])"
   ]
  },
  {
   "cell_type": "code",
   "execution_count": 8,
   "metadata": {},
   "outputs": [
    {
     "name": "stderr",
     "output_type": "stream",
     "text": [
      "yt : [INFO     ] 2020-01-14 10:52:33,808 Parameters: current_time              = 1.82399999999991\n",
      "yt : [INFO     ] 2020-01-14 10:52:33,810 Parameters: domain_dimensions         = [21 21 80]\n",
      "yt : [INFO     ] 2020-01-14 10:52:33,812 Parameters: domain_left_edge          = [0. 0. 0.]\n",
      "yt : [INFO     ] 2020-01-14 10:52:33,815 Parameters: domain_right_edge         = [21. 21. 80.]\n"
     ]
    }
   ],
   "source": [
    "work_dir = curr_dir+\"/mu_-0.2/\"\n",
    "filename = \"plt\"+str(all_plotfiles[0]).zfill(5) \n",
    "ds = yt.load(work_dir+filename)"
   ]
  },
  {
   "cell_type": "code",
   "execution_count": 9,
   "metadata": {},
   "outputs": [
    {
     "data": {
      "text/plain": [
       "((0.837475527894637-0.15995733088335284j),\n",
       " (2.2544157081884784-0.4527482314410909j))"
      ]
     },
     "execution_count": 9,
     "metadata": {},
     "output_type": "execute_result"
    }
   ],
   "source": [
    "get_fields(ds,0,0,0)"
   ]
  },
  {
   "cell_type": "markdown",
   "metadata": {},
   "source": [
    "Average density: $\\langle \\hat{n} \\rangle = \\frac{1}{N_{x}^{d}}\\sum_{x}n_{x}$\n",
    "\n",
    "where $n_{x}$ is the local density: $n_{x}= \\frac{1}{2 N_{\\tau}}e^{\\beta \\mu/N_{\\tau}}(\\phi_{1,x}-i \\phi_{2,x})(\\phi_{1,x-\\hat{\\tau}}+i \\phi_{2,x-\\hat{\\tau}})$\n",
    "\n",
    "Using our four complexified fields:\n",
    "\\begin{eqnarray}\n",
    "n_{x} &=& \\frac{1}{2 N_{\\tau}}e^{\\beta \\mu/N_{\\tau}}(\\phi_{1,x}^{R} + i \\phi_{1,x}^{I}-i \\phi_{2,x}^{R} +\\phi_{2,x}^{I})(\\phi_{1,x-\\hat{\\tau}}^{R} + i \\phi_{1,x-\\hat{\\tau}}^{I} +i \\phi_{2,x-\\hat{\\tau}}^{R} - \\phi_{2,x-\\hat{\\tau}}^{I})\\\\\n",
    "&=& \\frac{1}{2 N_{\\tau}}e^{\\beta \\mu/N_{\\tau}}(\\phi_{1,x}^{R} + i \\phi_{1,x}^{I}-i \\phi_{2,x}^{R} +\\phi_{2,x}^{I})(\\phi_{1,x-\\hat{\\tau}}^{R} + i \\phi_{1,x-\\hat{\\tau}}^{I} +i \\phi_{2,x-\\hat{\\tau}}^{R} - \\phi_{2,x-\\hat{\\tau}}^{I})\n",
    "\\end{eqnarray}\n",
    "\n",
    "Question for self: do you need to average over all t?\n",
    "\n",
    "Figure out how to deal with boundary conditions"
   ]
  },
  {
   "cell_type": "code",
   "execution_count": 14,
   "metadata": {},
   "outputs": [],
   "source": [
    "def local_density(ds, i, j, Nt, beta, mu):\n",
    "    n = complex(0.,0.)\n",
    "    #for t in np.arange(1,Nt):\n",
    "    #    phi1,phi2 = get_fields(ds,i,j,t)\n",
    "    #    phi1t,phi2t = get_fields(ds,i,j,t-1)\n",
    "    #    n += complex(phi1, -phi2)*complex(phi1t, -phi2t)\n",
    "    #phi1,phi2 = get_fields(ds,i,j,0)\n",
    "    #phi1t,phi2t = get_fields(ds,i,j,Nt-1)\n",
    "    t = int(Nt/2)\n",
    "    phi1,phi2 = get_fields(ds,i,j,t)\n",
    "    phi1t,phi2t = get_fields(ds,i,j,t-1)\n",
    "    n += complex(phi1, -phi2)*complex(phi1t, -phi2t)\n",
    "    return 0.5*np.exp(-beta*mu/float(Nt))*n/float(Nt)\n",
    "\n",
    "def total_density(ds, Nx, Nt, beta, mu):\n",
    "    ntot = complex(0.,0.)\n",
    "    volume = Nx**2\n",
    "    for i in np.arange(0,Nx):\n",
    "        for j in np.arange(0,Nx):\n",
    "            ntot += local_density(ds, i, j, Nt, beta, mu)\n",
    "    return ntot/volume"
   ]
  },
  {
   "cell_type": "code",
   "execution_count": null,
   "metadata": {},
   "outputs": [
    {
     "name": "stderr",
     "output_type": "stream",
     "text": [
      "yt : [INFO     ] 2020-01-14 12:55:55,598 Parameters: current_time              = 0.001\n",
      "yt : [INFO     ] 2020-01-14 12:55:55,599 Parameters: domain_dimensions         = [21 21 80]\n",
      "yt : [INFO     ] 2020-01-14 12:55:55,602 Parameters: domain_left_edge          = [0. 0. 0.]\n",
      "yt : [INFO     ] 2020-01-14 12:55:55,603 Parameters: domain_right_edge         = [21. 21. 80.]\n",
      "yt : [INFO     ] 2020-01-14 12:56:37,880 Parameters: current_time              = 0.002\n",
      "yt : [INFO     ] 2020-01-14 12:56:37,880 Parameters: domain_dimensions         = [21 21 80]\n",
      "yt : [INFO     ] 2020-01-14 12:56:37,881 Parameters: domain_left_edge          = [0. 0. 0.]\n",
      "yt : [INFO     ] 2020-01-14 12:56:37,884 Parameters: domain_right_edge         = [21. 21. 80.]\n"
     ]
    },
    {
     "name": "stdout",
     "output_type": "stream",
     "text": [
      "plt00001\n",
      "(-0.00016403912781228996-0.00013143289892008812j)\n"
     ]
    },
    {
     "name": "stderr",
     "output_type": "stream",
     "text": [
      "yt : [INFO     ] 2020-01-14 12:57:18,953 Parameters: current_time              = 0.003\n",
      "yt : [INFO     ] 2020-01-14 12:57:18,954 Parameters: domain_dimensions         = [21 21 80]\n",
      "yt : [INFO     ] 2020-01-14 12:57:18,955 Parameters: domain_left_edge          = [0. 0. 0.]\n",
      "yt : [INFO     ] 2020-01-14 12:57:18,956 Parameters: domain_right_edge         = [21. 21. 80.]\n"
     ]
    },
    {
     "name": "stdout",
     "output_type": "stream",
     "text": [
      "plt00002\n",
      "(-0.00014232934779516833-0.00011799791785626334j)\n"
     ]
    },
    {
     "name": "stderr",
     "output_type": "stream",
     "text": [
      "yt : [INFO     ] 2020-01-14 12:58:00,102 Parameters: current_time              = 0.004\n",
      "yt : [INFO     ] 2020-01-14 12:58:00,103 Parameters: domain_dimensions         = [21 21 80]\n",
      "yt : [INFO     ] 2020-01-14 12:58:00,104 Parameters: domain_left_edge          = [0. 0. 0.]\n",
      "yt : [INFO     ] 2020-01-14 12:58:00,105 Parameters: domain_right_edge         = [21. 21. 80.]\n"
     ]
    },
    {
     "name": "stdout",
     "output_type": "stream",
     "text": [
      "plt00003\n",
      "(-0.00015338613599305743-0.0001404028505033646j)\n"
     ]
    },
    {
     "name": "stderr",
     "output_type": "stream",
     "text": [
      "yt : [INFO     ] 2020-01-14 12:58:45,416 Parameters: current_time              = 0.005\n",
      "yt : [INFO     ] 2020-01-14 12:58:45,417 Parameters: domain_dimensions         = [21 21 80]\n",
      "yt : [INFO     ] 2020-01-14 12:58:45,418 Parameters: domain_left_edge          = [0. 0. 0.]\n",
      "yt : [INFO     ] 2020-01-14 12:58:45,419 Parameters: domain_right_edge         = [21. 21. 80.]\n"
     ]
    },
    {
     "name": "stdout",
     "output_type": "stream",
     "text": [
      "plt00004\n",
      "(-0.00016381707741385044-0.00014160797314605408j)\n"
     ]
    },
    {
     "name": "stderr",
     "output_type": "stream",
     "text": [
      "yt : [INFO     ] 2020-01-14 12:59:28,227 Parameters: current_time              = 0.006\n",
      "yt : [INFO     ] 2020-01-14 12:59:28,228 Parameters: domain_dimensions         = [21 21 80]\n",
      "yt : [INFO     ] 2020-01-14 12:59:28,229 Parameters: domain_left_edge          = [0. 0. 0.]\n",
      "yt : [INFO     ] 2020-01-14 12:59:28,230 Parameters: domain_right_edge         = [21. 21. 80.]\n"
     ]
    },
    {
     "name": "stdout",
     "output_type": "stream",
     "text": [
      "plt00005\n",
      "(-0.0001474152761831467-0.0001808598610382879j)\n"
     ]
    },
    {
     "name": "stderr",
     "output_type": "stream",
     "text": [
      "yt : [INFO     ] 2020-01-14 13:00:10,241 Parameters: current_time              = 0.007\n",
      "yt : [INFO     ] 2020-01-14 13:00:10,242 Parameters: domain_dimensions         = [21 21 80]\n",
      "yt : [INFO     ] 2020-01-14 13:00:10,244 Parameters: domain_left_edge          = [0. 0. 0.]\n",
      "yt : [INFO     ] 2020-01-14 13:00:10,245 Parameters: domain_right_edge         = [21. 21. 80.]\n"
     ]
    },
    {
     "name": "stdout",
     "output_type": "stream",
     "text": [
      "plt00006\n",
      "(-0.00014051167863779812-0.00017592683367533308j)\n"
     ]
    },
    {
     "name": "stderr",
     "output_type": "stream",
     "text": [
      "yt : [INFO     ] 2020-01-14 13:00:52,626 Parameters: current_time              = 0.008\n",
      "yt : [INFO     ] 2020-01-14 13:00:52,627 Parameters: domain_dimensions         = [21 21 80]\n",
      "yt : [INFO     ] 2020-01-14 13:00:52,627 Parameters: domain_left_edge          = [0. 0. 0.]\n",
      "yt : [INFO     ] 2020-01-14 13:00:52,628 Parameters: domain_right_edge         = [21. 21. 80.]\n"
     ]
    },
    {
     "name": "stdout",
     "output_type": "stream",
     "text": [
      "plt00007\n",
      "(-0.00014275613167785616-0.000157028886711929j)\n"
     ]
    },
    {
     "name": "stderr",
     "output_type": "stream",
     "text": [
      "yt : [INFO     ] 2020-01-14 13:01:35,559 Parameters: current_time              = 0.009000000000000001\n",
      "yt : [INFO     ] 2020-01-14 13:01:35,559 Parameters: domain_dimensions         = [21 21 80]\n",
      "yt : [INFO     ] 2020-01-14 13:01:35,560 Parameters: domain_left_edge          = [0. 0. 0.]\n",
      "yt : [INFO     ] 2020-01-14 13:01:35,561 Parameters: domain_right_edge         = [21. 21. 80.]\n"
     ]
    },
    {
     "name": "stdout",
     "output_type": "stream",
     "text": [
      "plt00008\n",
      "(-0.00014009148182222815-0.00018389213754069114j)\n"
     ]
    },
    {
     "name": "stderr",
     "output_type": "stream",
     "text": [
      "yt : [INFO     ] 2020-01-14 13:02:17,333 Parameters: current_time              = 0.010000000000000002\n",
      "yt : [INFO     ] 2020-01-14 13:02:17,334 Parameters: domain_dimensions         = [21 21 80]\n",
      "yt : [INFO     ] 2020-01-14 13:02:17,336 Parameters: domain_left_edge          = [0. 0. 0.]\n",
      "yt : [INFO     ] 2020-01-14 13:02:17,337 Parameters: domain_right_edge         = [21. 21. 80.]\n"
     ]
    },
    {
     "name": "stdout",
     "output_type": "stream",
     "text": [
      "plt00009\n",
      "(-0.0001644829861412514-0.00020027701537948684j)\n"
     ]
    },
    {
     "name": "stderr",
     "output_type": "stream",
     "text": [
      "yt : [INFO     ] 2020-01-14 13:03:03,695 Parameters: current_time              = 0.011000000000000003\n",
      "yt : [INFO     ] 2020-01-14 13:03:03,696 Parameters: domain_dimensions         = [21 21 80]\n",
      "yt : [INFO     ] 2020-01-14 13:03:03,697 Parameters: domain_left_edge          = [0. 0. 0.]\n",
      "yt : [INFO     ] 2020-01-14 13:03:03,698 Parameters: domain_right_edge         = [21. 21. 80.]\n"
     ]
    },
    {
     "name": "stdout",
     "output_type": "stream",
     "text": [
      "plt00010\n",
      "(-0.00018157226417323745-0.00018893870082729703j)\n"
     ]
    },
    {
     "name": "stderr",
     "output_type": "stream",
     "text": [
      "yt : [INFO     ] 2020-01-14 13:03:59,712 Parameters: current_time              = 0.012000000000000004\n",
      "yt : [INFO     ] 2020-01-14 13:03:59,713 Parameters: domain_dimensions         = [21 21 80]\n",
      "yt : [INFO     ] 2020-01-14 13:03:59,714 Parameters: domain_left_edge          = [0. 0. 0.]\n",
      "yt : [INFO     ] 2020-01-14 13:03:59,716 Parameters: domain_right_edge         = [21. 21. 80.]\n"
     ]
    },
    {
     "name": "stdout",
     "output_type": "stream",
     "text": [
      "plt00011\n",
      "(-0.00015926013472660437-0.00020626986114191721j)\n"
     ]
    },
    {
     "name": "stderr",
     "output_type": "stream",
     "text": [
      "yt : [INFO     ] 2020-01-14 13:04:54,933 Parameters: current_time              = 0.013000000000000005\n",
      "yt : [INFO     ] 2020-01-14 13:04:54,934 Parameters: domain_dimensions         = [21 21 80]\n",
      "yt : [INFO     ] 2020-01-14 13:04:54,936 Parameters: domain_left_edge          = [0. 0. 0.]\n",
      "yt : [INFO     ] 2020-01-14 13:04:54,937 Parameters: domain_right_edge         = [21. 21. 80.]\n"
     ]
    },
    {
     "name": "stdout",
     "output_type": "stream",
     "text": [
      "plt00012\n",
      "(-0.00015340007644513756-0.00019233028431542995j)\n",
      "plt00013\n",
      "(-0.00015309228795164304-0.00020531657857570838j)\n"
     ]
    },
    {
     "name": "stderr",
     "output_type": "stream",
     "text": [
      "yt : [INFO     ] 2020-01-14 13:05:56,338 Parameters: current_time              = 0.014000000000000005\n",
      "yt : [INFO     ] 2020-01-14 13:05:56,339 Parameters: domain_dimensions         = [21 21 80]\n",
      "yt : [INFO     ] 2020-01-14 13:05:56,341 Parameters: domain_left_edge          = [0. 0. 0.]\n",
      "yt : [INFO     ] 2020-01-14 13:05:56,345 Parameters: domain_right_edge         = [21. 21. 80.]\n",
      "yt : [INFO     ] 2020-01-14 13:07:01,464 Parameters: current_time              = 0.015000000000000006\n",
      "yt : [INFO     ] 2020-01-14 13:07:01,465 Parameters: domain_dimensions         = [21 21 80]\n",
      "yt : [INFO     ] 2020-01-14 13:07:01,467 Parameters: domain_left_edge          = [0. 0. 0.]\n",
      "yt : [INFO     ] 2020-01-14 13:07:01,469 Parameters: domain_right_edge         = [21. 21. 80.]\n"
     ]
    },
    {
     "name": "stdout",
     "output_type": "stream",
     "text": [
      "plt00014\n",
      "(-0.00016068254198729328-0.00020686915158909494j)\n"
     ]
    },
    {
     "name": "stderr",
     "output_type": "stream",
     "text": [
      "yt : [INFO     ] 2020-01-14 13:07:58,864 Parameters: current_time              = 0.016000000000000007\n",
      "yt : [INFO     ] 2020-01-14 13:07:58,866 Parameters: domain_dimensions         = [21 21 80]\n",
      "yt : [INFO     ] 2020-01-14 13:07:58,869 Parameters: domain_left_edge          = [0. 0. 0.]\n",
      "yt : [INFO     ] 2020-01-14 13:07:58,873 Parameters: domain_right_edge         = [21. 21. 80.]\n"
     ]
    },
    {
     "name": "stdout",
     "output_type": "stream",
     "text": [
      "plt00015\n",
      "(-0.00016556508144478953-0.00020058576858744808j)\n"
     ]
    },
    {
     "name": "stderr",
     "output_type": "stream",
     "text": [
      "yt : [INFO     ] 2020-01-14 13:08:55,818 Parameters: current_time              = 0.017000000000000008\n",
      "yt : [INFO     ] 2020-01-14 13:08:55,819 Parameters: domain_dimensions         = [21 21 80]\n",
      "yt : [INFO     ] 2020-01-14 13:08:55,820 Parameters: domain_left_edge          = [0. 0. 0.]\n",
      "yt : [INFO     ] 2020-01-14 13:08:55,823 Parameters: domain_right_edge         = [21. 21. 80.]\n"
     ]
    },
    {
     "name": "stdout",
     "output_type": "stream",
     "text": [
      "plt00016\n",
      "(-0.0001452359692240056-0.0002204702847572037j)\n"
     ]
    },
    {
     "name": "stderr",
     "output_type": "stream",
     "text": [
      "yt : [INFO     ] 2020-01-14 13:09:59,683 Parameters: current_time              = 0.01800000000000001\n",
      "yt : [INFO     ] 2020-01-14 13:09:59,684 Parameters: domain_dimensions         = [21 21 80]\n",
      "yt : [INFO     ] 2020-01-14 13:09:59,685 Parameters: domain_left_edge          = [0. 0. 0.]\n",
      "yt : [INFO     ] 2020-01-14 13:09:59,686 Parameters: domain_right_edge         = [21. 21. 80.]\n"
     ]
    },
    {
     "name": "stdout",
     "output_type": "stream",
     "text": [
      "plt00017\n",
      "(-0.00014739433173498092-0.00021760067865479163j)\n"
     ]
    }
   ],
   "source": [
    "nL = 20\n",
    "Nx = parameters['Nx']\n",
    "Nt = parameters['Nt']\n",
    "beta = parameters['beta']\n",
    "mu = parameters['mu']\n",
    "df = pd.DataFrame(columns=['step','N'])\n",
    "df.head()\n",
    "work_dir = curr_dir+\"/mu_-0.2/\"\n",
    "for step in np.arange(1,nL+1):\n",
    "    filename = \"plt\"+str(step).zfill(5) \n",
    "    ds = yt.load(work_dir+filename)\n",
    "    N = total_density(ds, Nx, Nt, beta, mu)\n",
    "    df.append({'step': step, 'density': N}, ignore_index=True)\n",
    "    print(filename)\n",
    "    print(N)\n",
    "df.head()"
   ]
  },
  {
   "cell_type": "code",
   "execution_count": null,
   "metadata": {},
   "outputs": [],
   "source": []
  }
 ],
 "metadata": {
  "kernelspec": {
   "display_name": "Python (amrex_cl)",
   "language": "python",
   "name": "amrex_cl"
  },
  "language_info": {
   "codemirror_mode": {
    "name": "ipython",
    "version": 3
   },
   "file_extension": ".py",
   "mimetype": "text/x-python",
   "name": "python",
   "nbconvert_exporter": "python",
   "pygments_lexer": "ipython3",
   "version": "3.5.6"
  }
 },
 "nbformat": 4,
 "nbformat_minor": 2
}
