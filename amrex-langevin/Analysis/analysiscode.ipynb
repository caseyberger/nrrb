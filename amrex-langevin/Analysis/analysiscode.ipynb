{
 "cells": [
  {
   "cell_type": "code",
   "execution_count": 1,
   "metadata": {},
   "outputs": [],
   "source": [
    "import yt\n",
    "import numpy as np\n",
    "import os\n",
    "import pandas as pd"
   ]
  },
  {
   "cell_type": "code",
   "execution_count": 4,
   "metadata": {},
   "outputs": [],
   "source": [
    "curr_dir = os.getcwd()\n",
    "all_files = os.listdir(curr_dir+\"/mu_-0.2/\")\n",
    "for filename in all_files:\n",
    "    if filename.startswith(\"inputs\"):\n",
    "        input_file = filename\n",
    "input_file = curr_dir+\"/mu_-0.2/\"+input_file\n",
    "fo = open(input_file, \"r\")"
   ]
  },
  {
   "cell_type": "code",
   "execution_count": 5,
   "metadata": {},
   "outputs": [
    {
     "name": "stdout",
     "output_type": "stream",
     "text": [
      "{'m': 1.0, 'lambda': 0.0, 'wz': 0.0, 'dt': 0.05, 'mu': -0.2, 'eps': 0.001, 'Nx': 21, 'Nt': 80, 'nL': 100000, 'beta': 4.0}\n"
     ]
    }
   ],
   "source": [
    "def extract_parameters(fo):\n",
    "    parameters = dict()\n",
    "    for line in fo.readlines():\n",
    "        if line.startswith(\"nsteps\"):\n",
    "            temp = line.split()\n",
    "            parameters[\"nL\"] = int(temp[-1])\n",
    "        elif line.startswith(\"n_cell\"):\n",
    "            temp = line.split()\n",
    "            parameters[\"Nx\"] = int(temp[2])\n",
    "            parameters[\"Nt\"] = int(temp[-1])\n",
    "        elif line.startswith(\"nrrb.l\"):\n",
    "            temp = line.split()\n",
    "            parameters[\"lambda\"] = float(temp[-1])\n",
    "        elif line.startswith(\"nrrb.mu\"):\n",
    "            temp = line.split()\n",
    "            parameters[\"mu\"] = float(temp[-1])\n",
    "        elif line.startswith(\"nrrb.m\"):\n",
    "            temp = line.split()\n",
    "            parameters[\"m\"] = float(temp[-1])\n",
    "        elif line.startswith(\"nrrb.w\"):\n",
    "            temp = line.split()\n",
    "            parameters[\"wz\"] = float(temp[-1])\n",
    "        elif line.startswith(\"nrrb.w_t\"):\n",
    "            temp = line.split()\n",
    "            parameters[\"wtr\"] = float(temp[-1])\n",
    "        elif line.startswith(\"nrrb.dtau\"):\n",
    "            temp = line.split()\n",
    "            parameters[\"dt\"] = float(temp[-1])\n",
    "        elif line.startswith(\"nrrb.eps\"):\n",
    "            temp = line.split()\n",
    "            parameters[\"eps\"] = float(temp[-1])\n",
    "    parameters[\"beta\"] = parameters[\"dt\"]*parameters[\"Nt\"]\n",
    "    return parameters\n",
    "\n",
    "parameters = extract_parameters(fo)\n",
    "print(parameters)"
   ]
  },
  {
   "cell_type": "code",
   "execution_count": 6,
   "metadata": {},
   "outputs": [],
   "source": [
    "nL = parameters['nL']\n",
    "all_steps = np.arange(1,nL+1,1)\n",
    "all_plotfiles = []\n",
    "for pltfile in all_files:\n",
    "    if pltfile.startswith(\"plt\"):\n",
    "        all_plotfiles.append(int(pltfile[3:]))\n",
    "#print(all_plotfiles)"
   ]
  },
  {
   "cell_type": "code",
   "execution_count": 7,
   "metadata": {},
   "outputs": [],
   "source": [
    "def find_missing_files(all_steps, all_plotfiles):\n",
    "    missing = []\n",
    "    for step in all_steps:\n",
    "        if step not in all_plotfiles:\n",
    "            missing.append(step)\n",
    "    return missing"
   ]
  },
  {
   "cell_type": "code",
   "execution_count": 8,
   "metadata": {},
   "outputs": [
    {
     "name": "stdout",
     "output_type": "stream",
     "text": [
      "11\n"
     ]
    }
   ],
   "source": [
    "#force nL to be smaller\n",
    "#nL = len(all_plotfiles)\n",
    "nL = 20\n",
    "missing = find_missing_files(np.arange(1,nL+1), all_plotfiles)\n",
    "print(len(missing))"
   ]
  },
  {
   "cell_type": "code",
   "execution_count": 17,
   "metadata": {},
   "outputs": [],
   "source": [
    "class GridData(object):\n",
    "    def __init__(self, ds):\n",
    "        # store data arrays for the dataset\n",
    "        cg = ds.covering_grid(left_edge=ds.domain_left_edge, dims=ds.domain_dimensions, level=0)\n",
    "        coords = cg.fcoords\n",
    "\n",
    "        xs = coords[:,0]\n",
    "        ys = coords[:,1]\n",
    "        ts = coords[:,2]\n",
    "\n",
    "        self.dx = np.max(xs[1:] - xs[:-1])\n",
    "        self.dy = np.max(ys[1:] - ys[:-1])\n",
    "        self.dt = np.max(ts[1:] - ts[:-1])\n",
    "\n",
    "        self.phi_1_Re = cg[\"phi_1_Re\"][:,:,:].d\n",
    "        self.phi_1_Im = cg[\"phi_1_Im\"][:,:,:].d\n",
    "        self.phi_2_Re = cg[\"phi_2_Re\"][:,:,:].d\n",
    "        self.phi_2_Im = cg[\"phi_2_Im\"][:,:,:].d\n",
    "\n",
    "    def get_fields(self,i,j,t):\n",
    "        return complex(self.phi_1_Re[i,j,t], self.phi_1_Im[i,j,t]), complex(self.phi_2_Re[i,j,t], self.phi_2_Im[i,j,t])"
   ]
  },
  {
   "cell_type": "code",
   "execution_count": 18,
   "metadata": {},
   "outputs": [
    {
     "name": "stderr",
     "output_type": "stream",
     "text": [
      "yt : [INFO     ] 2020-01-14 10:25:45,796 Parameters: current_time              = 0.009000000000000001\n",
      "yt : [INFO     ] 2020-01-14 10:25:45,797 Parameters: domain_dimensions         = [21 21 80]\n",
      "yt : [INFO     ] 2020-01-14 10:25:45,798 Parameters: domain_left_edge          = [0. 0. 0.]\n",
      "yt : [INFO     ] 2020-01-14 10:25:45,799 Parameters: domain_right_edge         = [21. 21. 80.]\n"
     ]
    }
   ],
   "source": [
    "work_dir = curr_dir+\"/mu_-0.2/\"\n",
    "filename = \"plt\"+str(all_plotfiles[0]).zfill(5) \n",
    "ds = yt.load(work_dir+filename)\n",
    "grid_data = GridData(ds)"
   ]
  },
  {
   "cell_type": "code",
   "execution_count": 19,
   "metadata": {},
   "outputs": [
    {
     "data": {
      "text/plain": [
       "((-1.0193617570850662+0.7897918574886916j),\n",
       " (0.5370442239338948+0.2010187190034365j))"
      ]
     },
     "execution_count": 19,
     "metadata": {},
     "output_type": "execute_result"
    }
   ],
   "source": [
    "grid_data.get_fields(0,0,0)"
   ]
  },
  {
   "cell_type": "markdown",
   "metadata": {},
   "source": [
    "Average density: $\\langle \\hat{n} \\rangle = \\frac{1}{N_{x}^{d}}\\sum_{x}n_{x}$\n",
    "\n",
    "where $n_{x}$ is the local density: $n_{x}= \\frac{1}{2 N_{\\tau}}e^{\\beta \\mu/N_{\\tau}}(\\phi_{1,x}-i \\phi_{2,x})(\\phi_{1,x-\\hat{\\tau}}+i \\phi_{2,x-\\hat{\\tau}})$\n",
    "\n",
    "Using our four complexified fields:\n",
    "\\begin{eqnarray}\n",
    "n_{x} &=& \\frac{1}{2 N_{\\tau}}e^{\\beta \\mu/N_{\\tau}}(\\phi_{1,x}^{R} + i \\phi_{1,x}^{I}-i \\phi_{2,x}^{R} +\\phi_{2,x}^{I})(\\phi_{1,x-\\hat{\\tau}}^{R} + i \\phi_{1,x-\\hat{\\tau}}^{I} +i \\phi_{2,x-\\hat{\\tau}}^{R} - \\phi_{2,x-\\hat{\\tau}}^{I})\\\\\n",
    "&=& \\frac{1}{2 N_{\\tau}}e^{\\beta \\mu/N_{\\tau}}(\\phi_{1,x}^{R} + i \\phi_{1,x}^{I}-i \\phi_{2,x}^{R} +\\phi_{2,x}^{I})(\\phi_{1,x-\\hat{\\tau}}^{R} + i \\phi_{1,x-\\hat{\\tau}}^{I} +i \\phi_{2,x-\\hat{\\tau}}^{R} - \\phi_{2,x-\\hat{\\tau}}^{I})\n",
    "\\end{eqnarray}\n",
    "\n",
    "Question for self: do you need to average over all t?\n",
    "\n",
    "Figure out how to deal with boundary conditions"
   ]
  },
  {
   "cell_type": "code",
   "execution_count": 31,
   "metadata": {},
   "outputs": [],
   "source": [
    "def local_density(gd, i, j, Nt, beta, mu):\n",
    "    n = complex(0.,0.)\n",
    "    for t in np.arange(1,Nt):\n",
    "        phi1,phi2 = gd.get_fields(i,j,t)\n",
    "        phi1t,phi2t = gd.get_fields(i,j,t-1)\n",
    "        n += complex(phi1, -phi2)*complex(phi1t, -phi2t)\n",
    "    phi1,phi2 = gd.get_fields(i,j,0)\n",
    "    phi1t,phi2t = gd.get_fields(i,j,Nt-1)\n",
    "    n += complex(phi1, -phi2)*complex(phi1t, -phi2t)\n",
    "    return 0.5*np.exp(-beta*mu/float(Nt))*n/float(Nt)\n",
    "\n",
    "def total_density(gd, Nx, Nt, beta, mu):\n",
    "    ntot = complex(0.,0.)\n",
    "    volume = Nx**2\n",
    "    for i in np.arange(0,Nx):\n",
    "        for j in np.arange(0,Nx):\n",
    "            ntot += local_density(gd, i, j, Nt, beta, mu)\n",
    "    return ntot/volume"
   ]
  },
  {
   "cell_type": "code",
   "execution_count": 32,
   "metadata": {},
   "outputs": [
    {
     "name": "stderr",
     "output_type": "stream",
     "text": [
      "yt : [INFO     ] 2020-01-14 10:35:24,581 Parameters: current_time              = 0.001\n",
      "yt : [INFO     ] 2020-01-14 10:35:24,583 Parameters: domain_dimensions         = [21 21 80]\n",
      "yt : [INFO     ] 2020-01-14 10:35:24,584 Parameters: domain_left_edge          = [0. 0. 0.]\n",
      "yt : [INFO     ] 2020-01-14 10:35:24,587 Parameters: domain_right_edge         = [21. 21. 80.]\n",
      "yt : [INFO     ] 2020-01-14 10:35:25,454 Parameters: current_time              = 0.002\n",
      "yt : [INFO     ] 2020-01-14 10:35:25,456 Parameters: domain_dimensions         = [21 21 80]\n",
      "yt : [INFO     ] 2020-01-14 10:35:25,458 Parameters: domain_left_edge          = [0. 0. 0.]\n",
      "yt : [INFO     ] 2020-01-14 10:35:25,460 Parameters: domain_right_edge         = [21. 21. 80.]\n"
     ]
    },
    {
     "name": "stdout",
     "output_type": "stream",
     "text": [
      "plt00001\n"
     ]
    },
    {
     "name": "stderr",
     "output_type": "stream",
     "text": [
      "yt : [INFO     ] 2020-01-14 10:35:26,349 Parameters: current_time              = 0.003\n",
      "yt : [INFO     ] 2020-01-14 10:35:26,350 Parameters: domain_dimensions         = [21 21 80]\n",
      "yt : [INFO     ] 2020-01-14 10:35:26,351 Parameters: domain_left_edge          = [0. 0. 0.]\n",
      "yt : [INFO     ] 2020-01-14 10:35:26,353 Parameters: domain_right_edge         = [21. 21. 80.]\n"
     ]
    },
    {
     "name": "stdout",
     "output_type": "stream",
     "text": [
      "plt00002\n"
     ]
    },
    {
     "name": "stderr",
     "output_type": "stream",
     "text": [
      "yt : [INFO     ] 2020-01-14 10:35:27,292 Parameters: current_time              = 0.004\n",
      "yt : [INFO     ] 2020-01-14 10:35:27,293 Parameters: domain_dimensions         = [21 21 80]\n",
      "yt : [INFO     ] 2020-01-14 10:35:27,295 Parameters: domain_left_edge          = [0. 0. 0.]\n",
      "yt : [INFO     ] 2020-01-14 10:35:27,297 Parameters: domain_right_edge         = [21. 21. 80.]\n"
     ]
    },
    {
     "name": "stdout",
     "output_type": "stream",
     "text": [
      "plt00003\n"
     ]
    },
    {
     "name": "stderr",
     "output_type": "stream",
     "text": [
      "yt : [INFO     ] 2020-01-14 10:35:28,734 Parameters: current_time              = 0.005\n",
      "yt : [INFO     ] 2020-01-14 10:35:28,735 Parameters: domain_dimensions         = [21 21 80]\n",
      "yt : [INFO     ] 2020-01-14 10:35:28,737 Parameters: domain_left_edge          = [0. 0. 0.]\n",
      "yt : [INFO     ] 2020-01-14 10:35:28,738 Parameters: domain_right_edge         = [21. 21. 80.]\n"
     ]
    },
    {
     "name": "stdout",
     "output_type": "stream",
     "text": [
      "plt00004\n"
     ]
    },
    {
     "name": "stderr",
     "output_type": "stream",
     "text": [
      "yt : [INFO     ] 2020-01-14 10:35:30,037 Parameters: current_time              = 0.006\n",
      "yt : [INFO     ] 2020-01-14 10:35:30,038 Parameters: domain_dimensions         = [21 21 80]\n",
      "yt : [INFO     ] 2020-01-14 10:35:30,040 Parameters: domain_left_edge          = [0. 0. 0.]\n",
      "yt : [INFO     ] 2020-01-14 10:35:30,041 Parameters: domain_right_edge         = [21. 21. 80.]\n"
     ]
    },
    {
     "name": "stdout",
     "output_type": "stream",
     "text": [
      "plt00005\n"
     ]
    },
    {
     "name": "stderr",
     "output_type": "stream",
     "text": [
      "yt : [INFO     ] 2020-01-14 10:35:31,130 Parameters: current_time              = 0.007\n",
      "yt : [INFO     ] 2020-01-14 10:35:31,132 Parameters: domain_dimensions         = [21 21 80]\n",
      "yt : [INFO     ] 2020-01-14 10:35:31,133 Parameters: domain_left_edge          = [0. 0. 0.]\n",
      "yt : [INFO     ] 2020-01-14 10:35:31,135 Parameters: domain_right_edge         = [21. 21. 80.]\n"
     ]
    },
    {
     "name": "stdout",
     "output_type": "stream",
     "text": [
      "plt00006\n"
     ]
    },
    {
     "name": "stderr",
     "output_type": "stream",
     "text": [
      "yt : [INFO     ] 2020-01-14 10:35:32,024 Parameters: current_time              = 0.008\n",
      "yt : [INFO     ] 2020-01-14 10:35:32,025 Parameters: domain_dimensions         = [21 21 80]\n",
      "yt : [INFO     ] 2020-01-14 10:35:32,026 Parameters: domain_left_edge          = [0. 0. 0.]\n",
      "yt : [INFO     ] 2020-01-14 10:35:32,027 Parameters: domain_right_edge         = [21. 21. 80.]\n"
     ]
    },
    {
     "name": "stdout",
     "output_type": "stream",
     "text": [
      "plt00007\n"
     ]
    },
    {
     "name": "stderr",
     "output_type": "stream",
     "text": [
      "yt : [INFO     ] 2020-01-14 10:35:33,068 Parameters: current_time              = 0.009000000000000001\n",
      "yt : [INFO     ] 2020-01-14 10:35:33,069 Parameters: domain_dimensions         = [21 21 80]\n",
      "yt : [INFO     ] 2020-01-14 10:35:33,073 Parameters: domain_left_edge          = [0. 0. 0.]\n",
      "yt : [INFO     ] 2020-01-14 10:35:33,075 Parameters: domain_right_edge         = [21. 21. 80.]\n"
     ]
    },
    {
     "name": "stdout",
     "output_type": "stream",
     "text": [
      "plt00008\n",
      "plt00009\n",
      "1: (-0.0026385907472054227+0.002099770830271272j)\n",
      "2: (-0.002399761033836866+0.001983534949230471j)\n",
      "3: (-0.0022511918084475216+0.0015490847786933822j)\n",
      "4: (-0.0021298563493369143+0.0012472469123865758j)\n",
      "5: (-0.0021840063305969574+0.0012140739124539485j)\n",
      "6: (-0.002091769200698329+0.0011174625792657994j)\n",
      "7: (-0.0020711114321221363+0.0009911011044013486j)\n",
      "8: (-0.0018280635483297713+0.0011607958300482659j)\n",
      "9: (-0.001953305400446652+0.0011677016043066847j)\n"
     ]
    }
   ],
   "source": [
    "nL = 9\n",
    "Nx = parameters['Nx']\n",
    "Nt = parameters['Nt']\n",
    "beta = parameters['beta']\n",
    "mu = parameters['mu']\n",
    "df = pd.DataFrame(columns=['step','density'])\n",
    "df.head()\n",
    "work_dir = curr_dir+\"/mu_-0.2/\"\n",
    "step_arr = []\n",
    "dens_arr = []\n",
    "for step in np.arange(1,nL+1):\n",
    "    filename = \"plt\"+str(step).zfill(5) \n",
    "    ds = yt.load(work_dir+filename)\n",
    "    gd = GridData(ds)\n",
    "    N = total_density(gd, Nx, Nt, beta, mu)\n",
    "    df.append({'step': step, 'density': N}, ignore_index=True)\n",
    "    step_arr.append(step)\n",
    "    dens_arr.append(N)\n",
    "df.head()\n",
    "\n",
    "for s, N in zip(step_arr, dens_arr):\n",
    "    print(\"{}: {}\".format(s,N))"
   ]
  },
  {
   "cell_type": "code",
   "execution_count": null,
   "metadata": {},
   "outputs": [],
   "source": []
  }
 ],
 "metadata": {
  "kernelspec": {
   "display_name": "Python 3",
   "language": "python",
   "name": "python3"
  },
  "language_info": {
   "codemirror_mode": {
    "name": "ipython",
    "version": 3
   },
   "file_extension": ".py",
   "mimetype": "text/x-python",
   "name": "python",
   "nbconvert_exporter": "python",
   "pygments_lexer": "ipython3",
   "version": "3.7.3"
  }
 },
 "nbformat": 4,
 "nbformat_minor": 4
}
