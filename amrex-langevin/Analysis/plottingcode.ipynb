{
 "cells": [
  {
   "cell_type": "code",
   "execution_count": 7,
   "metadata": {},
   "outputs": [],
   "source": [
    "import os\n",
    "import numpy as np\n",
    "import pandas as pd\n",
    "import matplotlib.pyplot as plt\n",
    "%matplotlib inline\n",
    "import seaborn as sns\n",
    "from defs_cori import *"
   ]
  },
  {
   "cell_type": "code",
   "execution_count": 8,
   "metadata": {},
   "outputs": [],
   "source": [
    "curr_dir = os.getcwd()+'/'"
   ]
  },
  {
   "cell_type": "markdown",
   "metadata": {},
   "source": [
    "# Langevin evolution Plotting"
   ]
  },
  {
   "cell_type": "markdown",
   "metadata": {},
   "source": [
    "import the csv"
   ]
  },
  {
   "cell_type": "code",
   "execution_count": 10,
   "metadata": {},
   "outputs": [],
   "source": [
    "filename = \"nrrb_data_test/logfile_D_2_Nx_41_Nt_160_dt_0.05_nL_1000_eps_0.001_m_1_wtr_0_wz_0_l_0_mu_-0.01.log\"\n",
    "input_filename = \"nrrb_data_test/inputs_test\"\n",
    "p = extract_parameters(curr_dir,input_filename)\n",
    "data_tL = pd.read_csv(curr_dir+filename)\n",
    "data_tL = data_tL.rename(columns={\"#step\": \"step\"})\n",
    "data_tL = data_tL.drop(columns=[\"Unnamed: 9\"])"
   ]
  },
  {
   "cell_type": "code",
   "execution_count": 11,
   "metadata": {},
   "outputs": [
    {
     "data": {
      "text/html": [
       "<div>\n",
       "<style scoped>\n",
       "    .dataframe tbody tr th:only-of-type {\n",
       "        vertical-align: middle;\n",
       "    }\n",
       "\n",
       "    .dataframe tbody tr th {\n",
       "        vertical-align: top;\n",
       "    }\n",
       "\n",
       "    .dataframe thead th {\n",
       "        text-align: right;\n",
       "    }\n",
       "</style>\n",
       "<table border=\"1\" class=\"dataframe\">\n",
       "  <thead>\n",
       "    <tr style=\"text-align: right;\">\n",
       "      <th></th>\n",
       "      <th>step</th>\n",
       "      <th>Re[phi^{*}phi]</th>\n",
       "      <th>Im[phi^{*}phi]</th>\n",
       "      <th>Re[&lt;n&gt;]</th>\n",
       "      <th>Im[&lt;n&gt;]</th>\n",
       "      <th>Re[&lt;Lz&gt;]</th>\n",
       "      <th>Im[&lt;Lz&gt;]</th>\n",
       "      <th>Re[&lt;S&gt;]</th>\n",
       "      <th>Im[&lt;S&gt;]</th>\n",
       "    </tr>\n",
       "  </thead>\n",
       "  <tbody>\n",
       "    <tr>\n",
       "      <th>0</th>\n",
       "      <td>0</td>\n",
       "      <td>0.000335</td>\n",
       "      <td>-0.000036</td>\n",
       "      <td>-0.000396</td>\n",
       "      <td>-0.000111</td>\n",
       "      <td>0.003020</td>\n",
       "      <td>0.000375</td>\n",
       "      <td>0.005415</td>\n",
       "      <td>0.020109</td>\n",
       "    </tr>\n",
       "    <tr>\n",
       "      <th>1</th>\n",
       "      <td>1</td>\n",
       "      <td>0.002287</td>\n",
       "      <td>0.000024</td>\n",
       "      <td>-0.000384</td>\n",
       "      <td>-0.000100</td>\n",
       "      <td>0.000897</td>\n",
       "      <td>0.000576</td>\n",
       "      <td>0.085907</td>\n",
       "      <td>0.021442</td>\n",
       "    </tr>\n",
       "    <tr>\n",
       "      <th>2</th>\n",
       "      <td>2</td>\n",
       "      <td>0.004301</td>\n",
       "      <td>0.000062</td>\n",
       "      <td>-0.000304</td>\n",
       "      <td>0.000004</td>\n",
       "      <td>0.002668</td>\n",
       "      <td>-0.000745</td>\n",
       "      <td>0.168638</td>\n",
       "      <td>0.025155</td>\n",
       "    </tr>\n",
       "    <tr>\n",
       "      <th>3</th>\n",
       "      <td>3</td>\n",
       "      <td>0.006398</td>\n",
       "      <td>0.000079</td>\n",
       "      <td>-0.000230</td>\n",
       "      <td>0.000027</td>\n",
       "      <td>0.000833</td>\n",
       "      <td>0.002079</td>\n",
       "      <td>0.253916</td>\n",
       "      <td>0.025822</td>\n",
       "    </tr>\n",
       "    <tr>\n",
       "      <th>4</th>\n",
       "      <td>4</td>\n",
       "      <td>0.008437</td>\n",
       "      <td>-0.000031</td>\n",
       "      <td>-0.000095</td>\n",
       "      <td>0.000077</td>\n",
       "      <td>0.003380</td>\n",
       "      <td>0.003467</td>\n",
       "      <td>0.339173</td>\n",
       "      <td>0.018641</td>\n",
       "    </tr>\n",
       "  </tbody>\n",
       "</table>\n",
       "</div>"
      ],
      "text/plain": [
       "   step  Re[phi^{*}phi]  Im[phi^{*}phi]   Re[<n>]   Im[<n>]  Re[<Lz>]  \\\n",
       "0     0        0.000335       -0.000036 -0.000396 -0.000111  0.003020   \n",
       "1     1        0.002287        0.000024 -0.000384 -0.000100  0.000897   \n",
       "2     2        0.004301        0.000062 -0.000304  0.000004  0.002668   \n",
       "3     3        0.006398        0.000079 -0.000230  0.000027  0.000833   \n",
       "4     4        0.008437       -0.000031 -0.000095  0.000077  0.003380   \n",
       "\n",
       "   Im[<Lz>]   Re[<S>]   Im[<S>]  \n",
       "0  0.000375  0.005415  0.020109  \n",
       "1  0.000576  0.085907  0.021442  \n",
       "2 -0.000745  0.168638  0.025155  \n",
       "3  0.002079  0.253916  0.025822  \n",
       "4  0.003467  0.339173  0.018641  "
      ]
     },
     "execution_count": 11,
     "metadata": {},
     "output_type": "execute_result"
    }
   ],
   "source": [
    "data_tL.head()"
   ]
  },
  {
   "cell_type": "markdown",
   "metadata": {},
   "source": [
    "Add a column for the Langevin time, steps scaled by the Langevin stepsize"
   ]
  },
  {
   "cell_type": "code",
   "execution_count": 14,
   "metadata": {},
   "outputs": [
    {
     "data": {
      "text/html": [
       "<div>\n",
       "<style scoped>\n",
       "    .dataframe tbody tr th:only-of-type {\n",
       "        vertical-align: middle;\n",
       "    }\n",
       "\n",
       "    .dataframe tbody tr th {\n",
       "        vertical-align: top;\n",
       "    }\n",
       "\n",
       "    .dataframe thead th {\n",
       "        text-align: right;\n",
       "    }\n",
       "</style>\n",
       "<table border=\"1\" class=\"dataframe\">\n",
       "  <thead>\n",
       "    <tr style=\"text-align: right;\">\n",
       "      <th></th>\n",
       "      <th>step</th>\n",
       "      <th>Re[phi^{*}phi]</th>\n",
       "      <th>Im[phi^{*}phi]</th>\n",
       "      <th>Re[&lt;n&gt;]</th>\n",
       "      <th>Im[&lt;n&gt;]</th>\n",
       "      <th>Re[&lt;Lz&gt;]</th>\n",
       "      <th>Im[&lt;Lz&gt;]</th>\n",
       "      <th>Re[&lt;S&gt;]</th>\n",
       "      <th>Im[&lt;S&gt;]</th>\n",
       "      <th>tL</th>\n",
       "    </tr>\n",
       "  </thead>\n",
       "  <tbody>\n",
       "    <tr>\n",
       "      <th>0</th>\n",
       "      <td>0</td>\n",
       "      <td>0.000335</td>\n",
       "      <td>-0.000036</td>\n",
       "      <td>-0.000396</td>\n",
       "      <td>-0.000111</td>\n",
       "      <td>0.003020</td>\n",
       "      <td>0.000375</td>\n",
       "      <td>0.005415</td>\n",
       "      <td>0.020109</td>\n",
       "      <td>0.000</td>\n",
       "    </tr>\n",
       "    <tr>\n",
       "      <th>1</th>\n",
       "      <td>1</td>\n",
       "      <td>0.002287</td>\n",
       "      <td>0.000024</td>\n",
       "      <td>-0.000384</td>\n",
       "      <td>-0.000100</td>\n",
       "      <td>0.000897</td>\n",
       "      <td>0.000576</td>\n",
       "      <td>0.085907</td>\n",
       "      <td>0.021442</td>\n",
       "      <td>0.001</td>\n",
       "    </tr>\n",
       "    <tr>\n",
       "      <th>2</th>\n",
       "      <td>2</td>\n",
       "      <td>0.004301</td>\n",
       "      <td>0.000062</td>\n",
       "      <td>-0.000304</td>\n",
       "      <td>0.000004</td>\n",
       "      <td>0.002668</td>\n",
       "      <td>-0.000745</td>\n",
       "      <td>0.168638</td>\n",
       "      <td>0.025155</td>\n",
       "      <td>0.002</td>\n",
       "    </tr>\n",
       "    <tr>\n",
       "      <th>3</th>\n",
       "      <td>3</td>\n",
       "      <td>0.006398</td>\n",
       "      <td>0.000079</td>\n",
       "      <td>-0.000230</td>\n",
       "      <td>0.000027</td>\n",
       "      <td>0.000833</td>\n",
       "      <td>0.002079</td>\n",
       "      <td>0.253916</td>\n",
       "      <td>0.025822</td>\n",
       "      <td>0.003</td>\n",
       "    </tr>\n",
       "    <tr>\n",
       "      <th>4</th>\n",
       "      <td>4</td>\n",
       "      <td>0.008437</td>\n",
       "      <td>-0.000031</td>\n",
       "      <td>-0.000095</td>\n",
       "      <td>0.000077</td>\n",
       "      <td>0.003380</td>\n",
       "      <td>0.003467</td>\n",
       "      <td>0.339173</td>\n",
       "      <td>0.018641</td>\n",
       "      <td>0.004</td>\n",
       "    </tr>\n",
       "  </tbody>\n",
       "</table>\n",
       "</div>"
      ],
      "text/plain": [
       "   step  Re[phi^{*}phi]  Im[phi^{*}phi]   Re[<n>]   Im[<n>]  Re[<Lz>]  \\\n",
       "0     0        0.000335       -0.000036 -0.000396 -0.000111  0.003020   \n",
       "1     1        0.002287        0.000024 -0.000384 -0.000100  0.000897   \n",
       "2     2        0.004301        0.000062 -0.000304  0.000004  0.002668   \n",
       "3     3        0.006398        0.000079 -0.000230  0.000027  0.000833   \n",
       "4     4        0.008437       -0.000031 -0.000095  0.000077  0.003380   \n",
       "\n",
       "   Im[<Lz>]   Re[<S>]   Im[<S>]     tL  \n",
       "0  0.000375  0.005415  0.020109  0.000  \n",
       "1  0.000576  0.085907  0.021442  0.001  \n",
       "2 -0.000745  0.168638  0.025155  0.002  \n",
       "3  0.002079  0.253916  0.025822  0.003  \n",
       "4  0.003467  0.339173  0.018641  0.004  "
      ]
     },
     "execution_count": 14,
     "metadata": {},
     "output_type": "execute_result"
    }
   ],
   "source": [
    "eps = p[\"eps\"]\n",
    "tL = data_tL.step*eps\n",
    "data_tL['tL'] = tL\n",
    "data_tL.head()"
   ]
  },
  {
   "cell_type": "markdown",
   "metadata": {},
   "source": [
    "Plot real and imaginary density as a function of Langevin time to identify thermalization point. Running averages will be slightly off since they are computed without throwing away the thermalization period yet."
   ]
  },
  {
   "cell_type": "code",
   "execution_count": 15,
   "metadata": {},
   "outputs": [
    {
     "data": {
      "image/png": "[encoded data removed]",
      "text/plain": [
       "<Figure size 432x288 with 1 Axes>"
      ]
     },
     "metadata": {
      "needs_background": "light"
     },
     "output_type": "display_data"
    }
   ],
   "source": [
    "fig, ax = plt.subplots()\n",
    "nRe = data_tL['Re[<n>]']\n",
    "nIm = data_tL['Im[<n>]']\n",
    "tL =  data_tL['tL']  \n",
    "steps = np.arange(1,len(tL)+1)\n",
    "ra_Re = np.cumsum(nRe)/steps\n",
    "ra_Im = np.cumsum(nIm)/steps\n",
    "ax.plot(tL, nRe, color = \"darkcyan\",alpha =0.5,label='_nolegend_')\n",
    "ax.plot(tL, nIm, color = \"darkmagenta\",alpha =0.5,label='_nolegend_')\n",
    "ax.plot(tL, ra_Re, ls='dashed', color = \"darkcyan\", label = \"Real\")\n",
    "ax.plot(tL, ra_Im, ls='dashed', color = \"darkmagenta\", label = \"Imaginary\")\n",
    "#determine thermalization point and draw a line on the plot to show it\n",
    "therm_step = 0.05/eps\n",
    "ax.axvline(x=0.05, color = \"darkslategray\", label = \"$n_{steps} = $\"+str(therm_step))\n",
    "ax.legend()\n",
    "ax.set_xlabel(\"$t_{L}$\")\n",
    "ax.set_ylabel(r\"$\\hat{n}(t_{L})$\")\n",
    "plt.show()"
   ]
  },
  {
   "cell_type": "code",
   "execution_count": null,
   "metadata": {},
   "outputs": [],
   "source": []
  }
 ],
 "metadata": {
  "kernelspec": {
   "display_name": "Python (amrex_cl)",
   "language": "python",
   "name": "amrex_cl"
  },
  "language_info": {
   "codemirror_mode": {
    "name": "ipython",
    "version": 3
   },
   "file_extension": ".py",
   "mimetype": "text/x-python",
   "name": "python",
   "nbconvert_exporter": "python",
   "pygments_lexer": "ipython3",
   "version": "3.5.6"
  }
 },
 "nbformat": 4,
 "nbformat_minor": 2
}
