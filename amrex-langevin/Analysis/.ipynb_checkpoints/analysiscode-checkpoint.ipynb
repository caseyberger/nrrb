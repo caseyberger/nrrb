{
 "cells": [
  {
   "cell_type": "code",
   "execution_count": 1,
   "metadata": {},
   "outputs": [],
   "source": [
    "import yt\n",
    "import numpy as np\n",
    "import os\n",
    "import pandas as pd"
   ]
  },
  {
   "cell_type": "code",
   "execution_count": 2,
   "metadata": {},
   "outputs": [],
   "source": [
    "curr_dir = os.getcwd()+\"/\""
   ]
  },
  {
   "cell_type": "code",
   "execution_count": 3,
   "metadata": {},
   "outputs": [],
   "source": [
    "def extract_parameters(input_filename):\n",
    "    input_file = curr_dir+\"/mu_-0.2/\"+input_filename\n",
    "    fo = open(input_file, \"r\")\n",
    "    parameters = dict()\n",
    "    for line in fo.readlines():\n",
    "        #print(line)\n",
    "        if line.startswith(\"nsteps\"):\n",
    "            temp = line.split()\n",
    "            parameters[\"nL\"] = int(temp[-1])\n",
    "        elif line.startswith(\"n_cell\"):\n",
    "            temp = line.split()\n",
    "            parameters[\"Nx\"] = int(temp[2])\n",
    "            parameters[\"Nt\"] = int(temp[-1])\n",
    "        elif line.startswith(\"nrrb.l\"):\n",
    "            temp = line.split()\n",
    "            parameters[\"lambda\"] = float(temp[-1])\n",
    "        elif line.startswith(\"nrrb.mu\"):\n",
    "            temp = line.split()\n",
    "            parameters[\"mu\"] = float(temp[-1])\n",
    "        elif line.startswith(\"nrrb.m\"):\n",
    "            temp = line.split()\n",
    "            parameters[\"m\"] = float(temp[-1])\n",
    "        elif line.startswith(\"nrrb.w\"):\n",
    "            temp = line.split()\n",
    "            if temp[0] == \"nrrb.w_t\":\n",
    "                parameters[\"wtr\"] = float(temp[-1])\n",
    "            else:\n",
    "                parameters[\"wz\"] = float(temp[-1])\n",
    "        elif line.startswith(\"nrrb.dtau\"):\n",
    "            temp = line.split()\n",
    "            parameters[\"dt\"] = float(temp[-1])\n",
    "        elif line.startswith(\"nrrb.eps\"):\n",
    "            temp = line.split()\n",
    "            parameters[\"eps\"] = float(temp[-1])\n",
    "    parameters[\"beta\"] = parameters[\"dt\"]*parameters[\"Nt\"]\n",
    "    fo.close()\n",
    "    return parameters"
   ]
  },
  {
   "cell_type": "code",
   "execution_count": 4,
   "metadata": {},
   "outputs": [],
   "source": [
    "def find_missing_files(all_steps, all_plotfiles):\n",
    "    missing = []\n",
    "    for step in all_steps:\n",
    "        if step not in all_plotfiles:\n",
    "            missing.append(step)\n",
    "    return missing"
   ]
  },
  {
   "cell_type": "code",
   "execution_count": 5,
   "metadata": {},
   "outputs": [],
   "source": [
    "def make_file_lists(subdir):\n",
    "    all_files = os.listdir(subdir)\n",
    "    all_plotfiles = []\n",
    "    for filename in all_files:\n",
    "        if filename.startswith(\"inputs\"):\n",
    "            input_filename = filename\n",
    "    for pltfile in all_files:\n",
    "        if pltfile.startswith(\"plt\"):\n",
    "            all_plotfiles.append(int(pltfile[3:]))\n",
    "    parameters = extract_parameters(input_filename)\n",
    "    nL = parameters['nL']\n",
    "    all_steps = np.arange(0,nL,1)\n",
    "    return input_filename, all_plotfiles, all_steps, parameters"
   ]
  },
  {
   "cell_type": "code",
   "execution_count": 6,
   "metadata": {},
   "outputs": [],
   "source": [
    "class GridData(object):\n",
    "    def __init__(self, ds):\n",
    "        # store data arrays for the dataset\n",
    "        cg = ds.covering_grid(left_edge=ds.domain_left_edge, dims=ds.domain_dimensions, level=0)\n",
    "        coords = cg.fcoords\n",
    "\n",
    "        xs = coords[:,0]\n",
    "        ys = coords[:,1]\n",
    "        ts = coords[:,2]\n",
    "\n",
    "        self.dx = np.max(xs[1:] - xs[:-1])\n",
    "        self.dy = np.max(ys[1:] - ys[:-1])\n",
    "        self.dt = np.max(ts[1:] - ts[:-1])\n",
    "\n",
    "        self.phi_1_Re = cg[\"phi_1_Re\"][:,:,:].d\n",
    "        self.phi_1_Im = cg[\"phi_1_Im\"][:,:,:].d\n",
    "        self.phi_2_Re = cg[\"phi_2_Re\"][:,:,:].d\n",
    "        self.phi_2_Im = cg[\"phi_2_Im\"][:,:,:].d\n",
    "\n",
    "    def get_fields(self,i,j,t):\n",
    "        return complex(self.phi_1_Re[i,j,t], self.phi_1_Im[i,j,t]), complex(self.phi_2_Re[i,j,t], self.phi_2_Im[i,j,t])"
   ]
  },
  {
   "cell_type": "markdown",
   "metadata": {},
   "source": [
    "Average density: $\\langle \\hat{n} \\rangle = \\frac{1}{N_{x}^{d}}\\sum_{x}n_{x}$\n",
    "\n",
    "where $n_{x}$ is the local density: $n_{x}= \\frac{1}{2 N_{\\tau}}e^{\\beta \\mu/N_{\\tau}}(\\phi_{1,x}-i \\phi_{2,x})(\\phi_{1,x-\\hat{\\tau}}+i \\phi_{2,x-\\hat{\\tau}})$\n",
    "\n",
    "Using our four complexified fields:\n",
    "\\begin{eqnarray}\n",
    "n_{x} &=& \\frac{1}{2 N_{\\tau}}e^{\\beta \\mu/N_{\\tau}}(\\phi_{1,x}^{R} + i \\phi_{1,x}^{I}-i \\phi_{2,x}^{R} +\\phi_{2,x}^{I})(\\phi_{1,x-\\hat{\\tau}}^{R} + i \\phi_{1,x-\\hat{\\tau}}^{I} +i \\phi_{2,x-\\hat{\\tau}}^{R} - \\phi_{2,x-\\hat{\\tau}}^{I})\\\\\n",
    "&=& \\frac{1}{2 N_{\\tau}}e^{\\beta \\mu/N_{\\tau}}(\\phi_{1,x}^{R} + i \\phi_{1,x}^{I}-i \\phi_{2,x}^{R} +\\phi_{2,x}^{I})(\\phi_{1,x-\\hat{\\tau}}^{R} + i \\phi_{1,x-\\hat{\\tau}}^{I} +i \\phi_{2,x-\\hat{\\tau}}^{R} - \\phi_{2,x-\\hat{\\tau}}^{I})\n",
    "\\end{eqnarray}\n",
    "\n",
    "Question for self: do you need to average over all t?\n",
    "\n",
    "Figure out how to deal with boundary conditions"
   ]
  },
  {
   "cell_type": "code",
   "execution_count": 7,
   "metadata": {},
   "outputs": [],
   "source": [
    "def local_density(gd, i, j, Nt, beta, mu):\n",
    "    n = complex(0.,0.)\n",
    "    for t in np.arange(1,Nt):\n",
    "        phi1,phi2 = gd.get_fields(i,j,t)\n",
    "        phi1t,phi2t = gd.get_fields(i,j,t-1)\n",
    "        n += complex(phi1, -phi2)*complex(phi1t, -phi2t)\n",
    "    phi1,phi2 = gd.get_fields(i,j,0)\n",
    "    phi1t,phi2t = gd.get_fields(i,j,Nt-1)\n",
    "    n += complex(phi1, -phi2)*complex(phi1t, -phi2t)\n",
    "    return 0.5*np.exp(-beta*mu/float(Nt))*n/float(Nt)\n",
    "\n",
    "def total_density(gd, Nx, Nt, beta, mu):\n",
    "    ntot = complex(0.,0.)\n",
    "    volume = Nx**2\n",
    "    for i in np.arange(0,Nx):\n",
    "        for j in np.arange(0,Nx):\n",
    "            ntot += local_density(gd, i, j, Nt, beta, mu)\n",
    "    return ntot/volume"
   ]
  },
  {
   "cell_type": "code",
   "execution_count": 23,
   "metadata": {},
   "outputs": [
    {
     "data": {
      "text/html": [
       "<div>\n",
       "<style scoped>\n",
       "    .dataframe tbody tr th:only-of-type {\n",
       "        vertical-align: middle;\n",
       "    }\n",
       "\n",
       "    .dataframe tbody tr th {\n",
       "        vertical-align: top;\n",
       "    }\n",
       "\n",
       "    .dataframe thead th {\n",
       "        text-align: right;\n",
       "    }\n",
       "</style>\n",
       "<table border=\"1\" class=\"dataframe\">\n",
       "  <thead>\n",
       "    <tr style=\"text-align: right;\">\n",
       "      <th></th>\n",
       "      <th>step</th>\n",
       "      <th>nL</th>\n",
       "      <th>eps</th>\n",
       "      <th>Nx</th>\n",
       "      <th>Nt</th>\n",
       "      <th>dt</th>\n",
       "      <th>beta</th>\n",
       "      <th>mu</th>\n",
       "      <th>wz</th>\n",
       "      <th>wtr</th>\n",
       "      <th>lambda</th>\n",
       "      <th>nRe</th>\n",
       "      <th>nIm</th>\n",
       "    </tr>\n",
       "  </thead>\n",
       "  <tbody>\n",
       "  </tbody>\n",
       "</table>\n",
       "</div>"
      ],
      "text/plain": [
       "Empty DataFrame\n",
       "Columns: [step, nL, eps, Nx, Nt, dt, beta, mu, wz, wtr, lambda, nRe, nIm]\n",
       "Index: []"
      ]
     },
     "execution_count": 23,
     "metadata": {},
     "output_type": "execute_result"
    }
   ],
   "source": [
    "df = pd.DataFrame(columns=['step','nL','eps','Nx','Nt','dt',\n",
    "                           'beta','mu','wz','wtr','lambda',\n",
    "                           'nRe','nIm'])\n",
    "df.head()"
   ]
  },
  {
   "cell_type": "code",
   "execution_count": 26,
   "metadata": {},
   "outputs": [
    {
     "name": "stderr",
     "output_type": "stream",
     "text": [
      "yt : [INFO     ] 2020-01-15 09:03:21,183 Parameters: current_time              = 0.0\n",
      "yt : [INFO     ] 2020-01-15 09:03:21,184 Parameters: domain_dimensions         = [21 21 80]\n",
      "yt : [INFO     ] 2020-01-15 09:03:21,185 Parameters: domain_left_edge          = [0. 0. 0.]\n",
      "yt : [INFO     ] 2020-01-15 09:03:21,186 Parameters: domain_right_edge         = [21. 21. 80.]\n",
      "yt : [INFO     ] 2020-01-15 09:03:21,618 Parameters: current_time              = 0.001\n",
      "yt : [INFO     ] 2020-01-15 09:03:21,619 Parameters: domain_dimensions         = [21 21 80]\n",
      "yt : [INFO     ] 2020-01-15 09:03:21,619 Parameters: domain_left_edge          = [0. 0. 0.]\n",
      "yt : [INFO     ] 2020-01-15 09:03:21,621 Parameters: domain_right_edge         = [21. 21. 80.]\n",
      "yt : [INFO     ] 2020-01-15 09:03:22,061 Parameters: current_time              = 0.002\n",
      "yt : [INFO     ] 2020-01-15 09:03:22,062 Parameters: domain_dimensions         = [21 21 80]\n",
      "yt : [INFO     ] 2020-01-15 09:03:22,063 Parameters: domain_left_edge          = [0. 0. 0.]\n",
      "yt : [INFO     ] 2020-01-15 09:03:22,064 Parameters: domain_right_edge         = [21. 21. 80.]\n",
      "yt : [INFO     ] 2020-01-15 09:03:22,811 Parameters: current_time              = 0.003\n",
      "yt : [INFO     ] 2020-01-15 09:03:22,812 Parameters: domain_dimensions         = [21 21 80]\n",
      "yt : [INFO     ] 2020-01-15 09:03:22,813 Parameters: domain_left_edge          = [0. 0. 0.]\n",
      "yt : [INFO     ] 2020-01-15 09:03:22,817 Parameters: domain_right_edge         = [21. 21. 80.]\n",
      "yt : [INFO     ] 2020-01-15 09:03:23,264 Parameters: current_time              = 0.004\n",
      "yt : [INFO     ] 2020-01-15 09:03:23,265 Parameters: domain_dimensions         = [21 21 80]\n",
      "yt : [INFO     ] 2020-01-15 09:03:23,266 Parameters: domain_left_edge          = [0. 0. 0.]\n",
      "yt : [INFO     ] 2020-01-15 09:03:23,267 Parameters: domain_right_edge         = [21. 21. 80.]\n",
      "yt : [INFO     ] 2020-01-15 09:03:23,820 Parameters: current_time              = 0.005\n",
      "yt : [INFO     ] 2020-01-15 09:03:23,821 Parameters: domain_dimensions         = [21 21 80]\n",
      "yt : [INFO     ] 2020-01-15 09:03:23,824 Parameters: domain_left_edge          = [0. 0. 0.]\n",
      "yt : [INFO     ] 2020-01-15 09:03:23,825 Parameters: domain_right_edge         = [21. 21. 80.]\n",
      "yt : [INFO     ] 2020-01-15 09:03:24,324 Parameters: current_time              = 0.006\n",
      "yt : [INFO     ] 2020-01-15 09:03:24,325 Parameters: domain_dimensions         = [21 21 80]\n",
      "yt : [INFO     ] 2020-01-15 09:03:24,326 Parameters: domain_left_edge          = [0. 0. 0.]\n",
      "yt : [INFO     ] 2020-01-15 09:03:24,327 Parameters: domain_right_edge         = [21. 21. 80.]\n",
      "yt : [INFO     ] 2020-01-15 09:03:24,853 Parameters: current_time              = 0.007\n",
      "yt : [INFO     ] 2020-01-15 09:03:24,854 Parameters: domain_dimensions         = [21 21 80]\n",
      "yt : [INFO     ] 2020-01-15 09:03:24,855 Parameters: domain_left_edge          = [0. 0. 0.]\n",
      "yt : [INFO     ] 2020-01-15 09:03:24,857 Parameters: domain_right_edge         = [21. 21. 80.]\n",
      "yt : [INFO     ] 2020-01-15 09:03:25,320 Parameters: current_time              = 0.008\n",
      "yt : [INFO     ] 2020-01-15 09:03:25,321 Parameters: domain_dimensions         = [21 21 80]\n",
      "yt : [INFO     ] 2020-01-15 09:03:25,322 Parameters: domain_left_edge          = [0. 0. 0.]\n",
      "yt : [INFO     ] 2020-01-15 09:03:25,324 Parameters: domain_right_edge         = [21. 21. 80.]\n",
      "yt : [INFO     ] 2020-01-15 09:03:25,809 Parameters: current_time              = 0.009000000000000001\n",
      "yt : [INFO     ] 2020-01-15 09:03:25,810 Parameters: domain_dimensions         = [21 21 80]\n",
      "yt : [INFO     ] 2020-01-15 09:03:25,811 Parameters: domain_left_edge          = [0. 0. 0.]\n",
      "yt : [INFO     ] 2020-01-15 09:03:25,813 Parameters: domain_right_edge         = [21. 21. 80.]\n",
      "yt : [ERROR    ] 2020-01-15 09:03:26,285 None of the arguments provided to load() is a valid file\n",
      "yt : [ERROR    ] 2020-01-15 09:03:26,286 Please check that you have used a correct path\n"
     ]
    },
    {
     "ename": "YTOutputNotIdentified",
     "evalue": "Supplied ('/Users/caseyberger/Dropbox/Work/Projects/RotatingBosons/Code/v4/v4.2/nrrb/amrex-langevin/Analysis/mu_-0.2/plt00010',) {}, but could not load!",
     "output_type": "error",
     "traceback": [
      "\u001b[0;31m---------------------------------------------------------------------------\u001b[0m",
      "\u001b[0;31mYTOutputNotIdentified\u001b[0m                     Traceback (most recent call last)",
      "\u001b[0;32m<ipython-input-26-d59670302819>\u001b[0m in \u001b[0;36m<module>\u001b[0;34m()\u001b[0m\n\u001b[1;32m     19\u001b[0m         \u001b[0;32mfor\u001b[0m \u001b[0mstep\u001b[0m \u001b[0;32min\u001b[0m \u001b[0mnp\u001b[0m\u001b[0;34m.\u001b[0m\u001b[0marange\u001b[0m\u001b[0;34m(\u001b[0m\u001b[0;36m0\u001b[0m\u001b[0;34m,\u001b[0m\u001b[0mnL\u001b[0m\u001b[0;34m+\u001b[0m\u001b[0;36m1\u001b[0m\u001b[0;34m)\u001b[0m\u001b[0;34m:\u001b[0m \u001b[0;31m#for step in steps:\u001b[0m\u001b[0;34m\u001b[0m\u001b[0m\n\u001b[1;32m     20\u001b[0m             \u001b[0mfilename\u001b[0m \u001b[0;34m=\u001b[0m \u001b[0;34m\"plt\"\u001b[0m\u001b[0;34m+\u001b[0m\u001b[0mstr\u001b[0m\u001b[0;34m(\u001b[0m\u001b[0mstep\u001b[0m\u001b[0;34m)\u001b[0m\u001b[0;34m.\u001b[0m\u001b[0mzfill\u001b[0m\u001b[0;34m(\u001b[0m\u001b[0mlen\u001b[0m\u001b[0;34m(\u001b[0m\u001b[0mnL_str\u001b[0m\u001b[0;34m)\u001b[0m\u001b[0;34m-\u001b[0m\u001b[0;36m1\u001b[0m\u001b[0;34m)\u001b[0m\u001b[0;34m\u001b[0m\u001b[0m\n\u001b[0;32m---> 21\u001b[0;31m             \u001b[0mds\u001b[0m \u001b[0;34m=\u001b[0m \u001b[0myt\u001b[0m\u001b[0;34m.\u001b[0m\u001b[0mload\u001b[0m\u001b[0;34m(\u001b[0m\u001b[0mwork_dir\u001b[0m\u001b[0;34m+\u001b[0m\u001b[0;34m\"/\"\u001b[0m\u001b[0;34m+\u001b[0m\u001b[0mfilename\u001b[0m\u001b[0;34m)\u001b[0m\u001b[0;34m\u001b[0m\u001b[0m\n\u001b[0m\u001b[1;32m     22\u001b[0m             \u001b[0mgd\u001b[0m \u001b[0;34m=\u001b[0m \u001b[0mGridData\u001b[0m\u001b[0;34m(\u001b[0m\u001b[0mds\u001b[0m\u001b[0;34m)\u001b[0m\u001b[0;34m\u001b[0m\u001b[0m\n\u001b[1;32m     23\u001b[0m             \u001b[0mN\u001b[0m \u001b[0;34m=\u001b[0m \u001b[0mtotal_density\u001b[0m\u001b[0;34m(\u001b[0m\u001b[0mgd\u001b[0m\u001b[0;34m,\u001b[0m \u001b[0mNx\u001b[0m\u001b[0;34m,\u001b[0m \u001b[0mNt\u001b[0m\u001b[0;34m,\u001b[0m \u001b[0mbeta\u001b[0m\u001b[0;34m,\u001b[0m \u001b[0mmu\u001b[0m\u001b[0;34m)\u001b[0m\u001b[0;34m\u001b[0m\u001b[0m\n",
      "\u001b[0;32m~/anaconda2/envs/amrex_cl/lib/python3.5/site-packages/yt/convenience.py\u001b[0m in \u001b[0;36mload\u001b[0;34m(*args, **kwargs)\u001b[0m\n\u001b[1;32m     74\u001b[0m             \u001b[0mmylog\u001b[0m\u001b[0;34m.\u001b[0m\u001b[0merror\u001b[0m\u001b[0;34m(\u001b[0m\u001b[0;34m\"None of the arguments provided to load() is a valid file\"\u001b[0m\u001b[0;34m)\u001b[0m\u001b[0;34m\u001b[0m\u001b[0m\n\u001b[1;32m     75\u001b[0m             \u001b[0mmylog\u001b[0m\u001b[0;34m.\u001b[0m\u001b[0merror\u001b[0m\u001b[0;34m(\u001b[0m\u001b[0;34m\"Please check that you have used a correct path\"\u001b[0m\u001b[0;34m)\u001b[0m\u001b[0;34m\u001b[0m\u001b[0m\n\u001b[0;32m---> 76\u001b[0;31m             \u001b[0;32mraise\u001b[0m \u001b[0mYTOutputNotIdentified\u001b[0m\u001b[0;34m(\u001b[0m\u001b[0margs\u001b[0m\u001b[0;34m,\u001b[0m \u001b[0mkwargs\u001b[0m\u001b[0;34m)\u001b[0m\u001b[0;34m\u001b[0m\u001b[0m\n\u001b[0m\u001b[1;32m     77\u001b[0m     \u001b[0;32mfor\u001b[0m \u001b[0mn\u001b[0m\u001b[0;34m,\u001b[0m \u001b[0mc\u001b[0m \u001b[0;32min\u001b[0m \u001b[0mtypes_to_check\u001b[0m\u001b[0;34m.\u001b[0m\u001b[0mitems\u001b[0m\u001b[0;34m(\u001b[0m\u001b[0;34m)\u001b[0m\u001b[0;34m:\u001b[0m\u001b[0;34m\u001b[0m\u001b[0m\n\u001b[1;32m     78\u001b[0m         \u001b[0;32mif\u001b[0m \u001b[0mn\u001b[0m \u001b[0;32mis\u001b[0m \u001b[0;32mNone\u001b[0m\u001b[0;34m:\u001b[0m \u001b[0;32mcontinue\u001b[0m\u001b[0;34m\u001b[0m\u001b[0m\n",
      "\u001b[0;31mYTOutputNotIdentified\u001b[0m: Supplied ('/Users/caseyberger/Dropbox/Work/Projects/RotatingBosons/Code/v4/v4.2/nrrb/amrex-langevin/Analysis/mu_-0.2/plt00010',) {}, but could not load!"
     ]
    }
   ],
   "source": [
    "subdirectories = os.listdir(curr_dir)\n",
    "step_arr = []\n",
    "dens_arr = []\n",
    "for subdir in subdirectories:\n",
    "    work_dir = curr_dir+subdir\n",
    "    if os.path.isdir(work_dir):\n",
    "        input_filename, plotfiles, steps, params = make_file_lists(subdir)\n",
    "        nL_str = str(params[\"nL\"])\n",
    "        nL = params['nL']\n",
    "        eps = params['eps']\n",
    "        Nx = params['Nx']\n",
    "        Nt = params['Nt']\n",
    "        dt = params['dt']\n",
    "        beta = params['beta']\n",
    "        mu = params['mu']\n",
    "        wz = params['wz']\n",
    "        wtr = params['wtr']\n",
    "        l = params['lambda']\n",
    "        for step in np.arange(0,nL+1): #for step in steps:\n",
    "            filename = \"plt\"+str(step).zfill(len(nL_str)-1)\n",
    "            ds = yt.load(work_dir+\"/\"+filename)\n",
    "            gd = GridData(ds)\n",
    "            N = total_density(gd, Nx, Nt, beta, mu)\n",
    "            step_arr.append(step)\n",
    "            dens_arr.append(N)\n",
    "            df = df.append({'step': step,  'nL': nL, 'eps': eps,\n",
    "                            'Nx': Nx, 'Nt': Nt,'dt': dt, 'beta': beta, \n",
    "                            'mu': mu, 'wz': wz, 'wtr': wtr, 'lambda': l,\n",
    "                            'nRe': N.real, 'nIm': N.imag}, ignore_index=True)\n",
    "    else:\n",
    "        pass"
   ]
  },
  {
   "cell_type": "code",
   "execution_count": 11,
   "metadata": {},
   "outputs": [],
   "source": [
    "export_csv = df.to_csv(curr_dir+\"raw_data.csv\",index = None, header=True)"
   ]
  },
  {
   "cell_type": "code",
   "execution_count": null,
   "metadata": {},
   "outputs": [],
   "source": []
  }
 ],
 "metadata": {
  "kernelspec": {
   "display_name": "Python (amrex_cl)",
   "language": "python",
   "name": "amrex_cl"
  },
  "language_info": {
   "codemirror_mode": {
    "name": "ipython",
    "version": 3
   },
   "file_extension": ".py",
   "mimetype": "text/x-python",
   "name": "python",
   "nbconvert_exporter": "python",
   "pygments_lexer": "ipython3",
   "version": "3.5.6"
  }
 },
 "nbformat": 4,
 "nbformat_minor": 2
}
