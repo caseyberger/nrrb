{
 "cells": [
  {
   "cell_type": "markdown",
   "metadata": {},
   "source": [
    "See if you can make this parallelizable... make the averaged csvs in each subdirectory and then go through and concatenate them quickly.\n",
    "\n",
    "SO FAR: the average_observables function (in old_cori_defs) creates and returns a dictionary. It should create and return a .csv instead with all the params and the observable values\n",
    "\n",
    "DONE: it's easy now to plot tL evolution since we have a csv. Move this to the plotting notebook.\n",
    "\n",
    "QUESTION: how to incorporate circulation?\n",
    "\n",
    "Data on cori currently stored here:\n",
    "cberger@cori.nersc.gov:/global/cscratch1/sd/cberger/nrrb_early_testing/\n",
    "\n",
    "Organization for future:\n",
    "- all subdirectories should start with nrrb_data_... for the sake of searching\n",
    "- output observables file should start with \"observables\"? (change from \"logfile\"?)"
   ]
  },
  {
   "cell_type": "code",
   "execution_count": 1,
   "metadata": {},
   "outputs": [],
   "source": [
    "import numpy as np\n",
    "import os\n",
    "\n",
    "from defs_cori import *"
   ]
  },
  {
   "cell_type": "code",
   "execution_count": 2,
   "metadata": {},
   "outputs": [
    {
     "name": "stdout",
     "output_type": "stream",
     "text": [
      "['nrrb_data_test2', 'nrrb_data_test1']\n"
     ]
    }
   ],
   "source": [
    "curr_dir = os.getcwd()+\"/\"\n",
    "subdirectories = os.listdir(curr_dir)\n",
    "data_directories = []\n",
    "for subdir in subdirectories:\n",
    "    if subdir.startswith(\"nrrb_data_\"):\n",
    "        data_directories.append(subdir)\n",
    "print(data_directories)"
   ]
  },
  {
   "cell_type": "code",
   "execution_count": 3,
   "metadata": {},
   "outputs": [],
   "source": [
    "for data_dir in data_directories:\n",
    "    work_dir = curr_dir+data_dir\n",
    "    if os.path.isdir(work_dir):\n",
    "        all_files = os.listdir(work_dir)\n",
    "        for filename in all_files:\n",
    "            if filename.startswith(\"input\"):\n",
    "                input_filename = filename\n",
    "            if filename.startswith(\"logfile\"): \n",
    "                obs_filename = filename\n",
    "        p = extract_parameters(work_dir,input_filename)\n",
    "        Langevin_evol_data = get_raw_data(work_dir, obs_filename)\n",
    "        Ntherm = int(0.2*len(Langevin_evol_data[\"Re n\"]))\n",
    "        average_observables(work_dir,Langevin_evol_data,p,Ntherm) "
   ]
  },
  {
   "cell_type": "code",
   "execution_count": 4,
   "metadata": {},
   "outputs": [
    {
     "data": {
      "text/html": [
       "<div>\n",
       "<style scoped>\n",
       "    .dataframe tbody tr th:only-of-type {\n",
       "        vertical-align: middle;\n",
       "    }\n",
       "\n",
       "    .dataframe tbody tr th {\n",
       "        vertical-align: top;\n",
       "    }\n",
       "\n",
       "    .dataframe thead th {\n",
       "        text-align: right;\n",
       "    }\n",
       "</style>\n",
       "<table border=\"1\" class=\"dataframe\">\n",
       "  <thead>\n",
       "    <tr style=\"text-align: right;\">\n",
       "      <th></th>\n",
       "      <th>Nt</th>\n",
       "      <th>Nx</th>\n",
       "      <th>beta</th>\n",
       "      <th>dt</th>\n",
       "      <th>eps</th>\n",
       "      <th>lambda</th>\n",
       "      <th>m</th>\n",
       "      <th>mu</th>\n",
       "      <th>nL</th>\n",
       "      <th>wtr</th>\n",
       "      <th>...</th>\n",
       "      <th>Im n err</th>\n",
       "      <th>Re Lz</th>\n",
       "      <th>Re Lz err</th>\n",
       "      <th>Re Phisq</th>\n",
       "      <th>Re Phisq err</th>\n",
       "      <th>Re S</th>\n",
       "      <th>Re S err</th>\n",
       "      <th>Re n</th>\n",
       "      <th>Re n err</th>\n",
       "      <th>Ntherm</th>\n",
       "    </tr>\n",
       "  </thead>\n",
       "  <tbody>\n",
       "    <tr>\n",
       "      <th>0</th>\n",
       "      <td>160</td>\n",
       "      <td>41</td>\n",
       "      <td>8.0</td>\n",
       "      <td>0.05</td>\n",
       "      <td>0.001</td>\n",
       "      <td>0.0</td>\n",
       "      <td>1.0</td>\n",
       "      <td>-0.01</td>\n",
       "      <td>1000</td>\n",
       "      <td>0.1</td>\n",
       "      <td>...</td>\n",
       "      <td>0.000019</td>\n",
       "      <td>0.003017</td>\n",
       "      <td>0.000638</td>\n",
       "      <td>0.626426</td>\n",
       "      <td>0.004657</td>\n",
       "      <td>25.389674</td>\n",
       "      <td>0.186406</td>\n",
       "      <td>-0.011128</td>\n",
       "      <td>0.000134</td>\n",
       "      <td>200</td>\n",
       "    </tr>\n",
       "  </tbody>\n",
       "</table>\n",
       "<p>1 rows × 28 columns</p>\n",
       "</div>"
      ],
      "text/plain": [
       "    Nt  Nx  beta    dt    eps  lambda    m    mu    nL  wtr   ...    Im n err  \\\n",
       "0  160  41   8.0  0.05  0.001     0.0  1.0 -0.01  1000  0.1   ...    0.000019   \n",
       "\n",
       "      Re Lz  Re Lz err  Re Phisq  Re Phisq err       Re S  Re S err      Re n  \\\n",
       "0  0.003017   0.000638  0.626426      0.004657  25.389674  0.186406 -0.011128   \n",
       "\n",
       "   Re n err  Ntherm  \n",
       "0  0.000134     200  \n",
       "\n",
       "[1 rows x 28 columns]"
      ]
     },
     "execution_count": 4,
     "metadata": {},
     "output_type": "execute_result"
    }
   ],
   "source": [
    "import pandas as pd\n",
    "filename = \"nrrb_data_test2/averaged_observables.csv\"\n",
    "data_avg = pd.read_csv(curr_dir+filename)\n",
    "data_avg.head()"
   ]
  },
  {
   "cell_type": "code",
   "execution_count": 5,
   "metadata": {},
   "outputs": [
    {
     "name": "stdout",
     "output_type": "stream",
     "text": [
      "160,41,8.0,0.05,0.001,0.0,1.0,-0.01,1000,0.1,0.0,0.07350743487499999,0.0004975682160694416,0.0005731143490875,1.560672230388258e-05,0.03670160898875,0.0007154272076839482,0.0004400971101,1.867898610898509e-05,0.00301673247625,0.0006377419381437178,0.62642635875,0.00465698343447002,25.389674250000002,0.18640574566809204,-0.01112810775,0.0001342738218541648,200\n",
      "\n",
      "160,41,8.0,0.05,0.001,0.0,1.0,-0.01,1000,0.0,0.0,-0.004138126690499999,0.000747569421081291,-0.0009125431465225001,2.3763076441616667e-05,-0.016825426046249998,0.0014181805341406699,-0.00105299069665,3.524591269342695e-05,-0.03518122542325,0.0005534316200129939,0.63546608125,0.004805470674237416,25.79490025,0.1935825332054778,0.00063758449740625,3.4931922754060216e-05,200\n",
      "\n"
     ]
    }
   ],
   "source": [
    "concatenate_obs_files(curr_dir)"
   ]
  },
  {
   "cell_type": "code",
   "execution_count": 6,
   "metadata": {},
   "outputs": [],
   "source": [
    "master_data_avg = pd.read_csv(curr_dir+\"all_averaged_observables.csv\")"
   ]
  },
  {
   "cell_type": "code",
   "execution_count": 7,
   "metadata": {},
   "outputs": [
    {
     "data": {
      "text/html": [
       "<div>\n",
       "<style scoped>\n",
       "    .dataframe tbody tr th:only-of-type {\n",
       "        vertical-align: middle;\n",
       "    }\n",
       "\n",
       "    .dataframe tbody tr th {\n",
       "        vertical-align: top;\n",
       "    }\n",
       "\n",
       "    .dataframe thead th {\n",
       "        text-align: right;\n",
       "    }\n",
       "</style>\n",
       "<table border=\"1\" class=\"dataframe\">\n",
       "  <thead>\n",
       "    <tr style=\"text-align: right;\">\n",
       "      <th></th>\n",
       "      <th>Nt</th>\n",
       "      <th>Nx</th>\n",
       "      <th>beta</th>\n",
       "      <th>dt</th>\n",
       "      <th>eps</th>\n",
       "      <th>lambda</th>\n",
       "      <th>m</th>\n",
       "      <th>mu</th>\n",
       "      <th>nL</th>\n",
       "      <th>wtr</th>\n",
       "      <th>...</th>\n",
       "      <th>Im n err</th>\n",
       "      <th>Re Lz</th>\n",
       "      <th>Re Lz err</th>\n",
       "      <th>Re Phisq</th>\n",
       "      <th>Re Phisq err</th>\n",
       "      <th>Re S</th>\n",
       "      <th>Re S err</th>\n",
       "      <th>Re n</th>\n",
       "      <th>Re n err</th>\n",
       "      <th>Ntherm</th>\n",
       "    </tr>\n",
       "  </thead>\n",
       "  <tbody>\n",
       "    <tr>\n",
       "      <th>0</th>\n",
       "      <td>160</td>\n",
       "      <td>41</td>\n",
       "      <td>8.0</td>\n",
       "      <td>0.05</td>\n",
       "      <td>0.001</td>\n",
       "      <td>0.0</td>\n",
       "      <td>1.0</td>\n",
       "      <td>-0.01</td>\n",
       "      <td>1000</td>\n",
       "      <td>0.1</td>\n",
       "      <td>...</td>\n",
       "      <td>0.000019</td>\n",
       "      <td>0.003017</td>\n",
       "      <td>0.000638</td>\n",
       "      <td>0.626426</td>\n",
       "      <td>0.004657</td>\n",
       "      <td>25.389674</td>\n",
       "      <td>0.186406</td>\n",
       "      <td>-0.011128</td>\n",
       "      <td>0.000134</td>\n",
       "      <td>200</td>\n",
       "    </tr>\n",
       "    <tr>\n",
       "      <th>1</th>\n",
       "      <td>160</td>\n",
       "      <td>41</td>\n",
       "      <td>8.0</td>\n",
       "      <td>0.05</td>\n",
       "      <td>0.001</td>\n",
       "      <td>0.0</td>\n",
       "      <td>1.0</td>\n",
       "      <td>-0.01</td>\n",
       "      <td>1000</td>\n",
       "      <td>0.0</td>\n",
       "      <td>...</td>\n",
       "      <td>0.000035</td>\n",
       "      <td>-0.035181</td>\n",
       "      <td>0.000553</td>\n",
       "      <td>0.635466</td>\n",
       "      <td>0.004805</td>\n",
       "      <td>25.794900</td>\n",
       "      <td>0.193583</td>\n",
       "      <td>0.000638</td>\n",
       "      <td>0.000035</td>\n",
       "      <td>200</td>\n",
       "    </tr>\n",
       "  </tbody>\n",
       "</table>\n",
       "<p>2 rows × 28 columns</p>\n",
       "</div>"
      ],
      "text/plain": [
       "    Nt  Nx  beta    dt    eps  lambda    m    mu    nL  wtr   ...    Im n err  \\\n",
       "0  160  41   8.0  0.05  0.001     0.0  1.0 -0.01  1000  0.1   ...    0.000019   \n",
       "1  160  41   8.0  0.05  0.001     0.0  1.0 -0.01  1000  0.0   ...    0.000035   \n",
       "\n",
       "      Re Lz  Re Lz err  Re Phisq  Re Phisq err       Re S  Re S err      Re n  \\\n",
       "0  0.003017   0.000638  0.626426      0.004657  25.389674  0.186406 -0.011128   \n",
       "1 -0.035181   0.000553  0.635466      0.004805  25.794900  0.193583  0.000638   \n",
       "\n",
       "   Re n err  Ntherm  \n",
       "0  0.000134     200  \n",
       "1  0.000035     200  \n",
       "\n",
       "[2 rows x 28 columns]"
      ]
     },
     "execution_count": 7,
     "metadata": {},
     "output_type": "execute_result"
    }
   ],
   "source": [
    "master_data_avg.head()"
   ]
  },
  {
   "cell_type": "code",
   "execution_count": null,
   "metadata": {},
   "outputs": [],
   "source": []
  }
 ],
 "metadata": {
  "kernelspec": {
   "display_name": "Python (amrex_cl)",
   "language": "python",
   "name": "amrex_cl"
  },
  "language_info": {
   "codemirror_mode": {
    "name": "ipython",
    "version": 3
   },
   "file_extension": ".py",
   "mimetype": "text/x-python",
   "name": "python",
   "nbconvert_exporter": "python",
   "pygments_lexer": "ipython3",
   "version": "3.5.6"
  }
 },
 "nbformat": 4,
 "nbformat_minor": 2
}
