{
 "cells": [
  {
   "cell_type": "markdown",
   "metadata": {},
   "source": [
    "Import needed packages.\n",
    "\n",
    "- os -- to search in directories and acquire path names\n",
    "- string -- to manipulate data in string format, create file names, etc\n",
    "- numpy -- for performing math operations and manipulating data in multidimensional arrays\n",
    "- h5py -- for reading from and writing to HDF5 files\n",
    "- pandas -- for management of large databases\n",
    "\n",
    "The h5py package manual is here: https://docs.h5py.org/en/stable/\n",
    "\n",
    "The pandas package manual is here: https://pandas.pydata.org/pandas-docs/stable/getting_started/index.html\n"
   ]
  },
  {
   "cell_type": "code",
   "execution_count": 1,
   "metadata": {},
   "outputs": [],
   "source": [
    "import os\n",
    "import string\n",
    "import numpy as np\n",
    "import h5py\n",
    "import pandas as pd"
   ]
  },
  {
   "cell_type": "markdown",
   "metadata": {},
   "source": [
    "First, as we will need to look at the data in one file (though our goal is to perform the same action in a loop over every file), we need to provide a specific folder we will use for testing."
   ]
  },
  {
   "cell_type": "code",
   "execution_count": 2,
   "metadata": {},
   "outputs": [],
   "source": [
    "test_run = \"nrrb_data_d2_w0.0_wt0.0_lambda0.0_m1.0_Nx21_Nt80_dt0.05_nL1000000_eps0.0001_mu-0.2\""
   ]
  },
  {
   "cell_type": "markdown",
   "metadata": {},
   "source": [
    "Then, we specify the data directory and then identify the output files from the simulation code."
   ]
  },
  {
   "cell_type": "code",
   "execution_count": 3,
   "metadata": {},
   "outputs": [],
   "source": [
    "data_dir = os.path.dirname(os.getcwd())+\"/data/\"\n",
    "all_files_in_data_dir = os.listdir(data_dir+test_run+\"/\")\n",
    "simulation_data_file = \" \"\n",
    "for file in all_files_in_data_dir:\n",
    "    if file.startswith(\"output\"):\n",
    "        simulation_data_file = file\n",
    "#print(simulation_data_file)"
   ]
  },
  {
   "cell_type": "markdown",
   "metadata": {},
   "source": [
    "Load the contents of the file (test run in this case) using h5py"
   ]
  },
  {
   "cell_type": "code",
   "execution_count": 4,
   "metadata": {},
   "outputs": [],
   "source": [
    "f = h5py.File(data_dir+test_run+\"/\"+simulation_data_file)"
   ]
  },
  {
   "cell_type": "markdown",
   "metadata": {},
   "source": [
    "Check the contents of the file by listing the keys"
   ]
  },
  {
   "cell_type": "code",
   "execution_count": 5,
   "metadata": {},
   "outputs": [
    {
     "data": {
      "text/plain": [
       "['Attributes', 'Lattice', 'Observables']"
      ]
     },
     "execution_count": 5,
     "metadata": {},
     "output_type": "execute_result"
    }
   ],
   "source": [
    "list(f.keys())"
   ]
  },
  {
   "cell_type": "raw",
   "metadata": {},
   "source": [
    "Generate the list of observables from the HDF5 file. Remove the calculated parameters (steps and langevin times) and the more complicated observables that we will have to analyse separately (density profiles and circulation)"
   ]
  },
  {
   "cell_type": "code",
   "execution_count": 6,
   "metadata": {},
   "outputs": [
    {
     "name": "stdout",
     "output_type": "stream",
     "text": [
      "['Dens', 'KE', 'Lz', 'PhiSq', 'S', 'S_del', 'S_int', 'S_tau', 'S_trap', 'S_w', 'Vint', 'Vtr']\n"
     ]
    }
   ],
   "source": [
    "obs_list = list(f['Observables'].keys())\n",
    "obs_list.remove('Steps')\n",
    "obs_list.remove('LangevinTimes')\n",
    "obs_list.remove('DensityProfile')\n",
    "obs_list.remove('Circulation')\n",
    "#err_list = [i+\" Err\" for i in obs_list]\n",
    "print(obs_list)"
   ]
  },
  {
   "cell_type": "markdown",
   "metadata": {},
   "source": [
    "### Now let's plot the Langevin evolution of one observable from our test run folder. Density v. Langevin time for example."
   ]
  },
  {
   "cell_type": "markdown",
   "metadata": {},
   "source": [
    "First, import pyplot so we can make plots. Use %matplotlib inline for better visualization in Jupyter Notebooks"
   ]
  },
  {
   "cell_type": "code",
   "execution_count": 7,
   "metadata": {},
   "outputs": [],
   "source": [
    "from matplotlib import pyplot as plt\n",
    "%matplotlib inline"
   ]
  },
  {
   "cell_type": "markdown",
   "metadata": {},
   "source": [
    "Now extract the density (the real part and the imaginary part) from the data. These will be our y axes. Also extract the steps in the Langevin evolution. This will be our x axis."
   ]
  },
  {
   "cell_type": "code",
   "execution_count": 8,
   "metadata": {},
   "outputs": [],
   "source": [
    "dens_Re = f['Observables']['Dens']['Re']\n",
    "dens_Im = f['Observables']['Dens']['Im']\n",
    "steps = f['Observables']['Steps']"
   ]
  },
  {
   "cell_type": "markdown",
   "metadata": {},
   "source": [
    "Plot the real and imaginary parts of the density as a function of the Langevin evolution. We should be able to see them both equilibrate to some average value after a short while, and the imaginary part should average to zero. This can be hard to see clearly when the real part is also close to zero, so feel free to change around which folder you use to test this on and see what comes up."
   ]
  },
  {
   "cell_type": "code",
   "execution_count": 9,
   "metadata": {},
   "outputs": [
    {
     "name": "stderr",
     "output_type": "stream",
     "text": [
      "/usr/common/software/python/3.7-anaconda-2019.10/lib/python3.7/site-packages/IPython/core/pylabtools.py:128: UserWarning: Creating legend with loc=\"best\" can be slow with large amounts of data.\n",
      "  fig.canvas.print_figure(bytes_io, **kw)\n"
     ]
    },
    {
     "data": {
      "image/png": "[encoded data removed]",
      "text/plain": [
       "<Figure size 432x288 with 1 Axes>"
      ]
     },
     "metadata": {
      "needs_background": "light"
     },
     "output_type": "display_data"
    }
   ],
   "source": [
    "plt.plot(steps, dens_Re, marker='o', markerfacecolor='blue', markersize=1, linewidth=1, label = \"Re\")\n",
    "plt.plot(steps, dens_Im, marker='o', markerfacecolor='red', markersize=1, linewidth=1, label = \"Im\")\n",
    "\n",
    "# show legend\n",
    "plt.legend()\n",
    "\n",
    "# show graph\n",
    "plt.show()"
   ]
  },
  {
   "cell_type": "markdown",
   "metadata": {},
   "source": [
    "### Add thermalization and autocorrelation"
   ]
  },
  {
   "cell_type": "markdown",
   "metadata": {},
   "source": [
    "Import a custom set of functions I wrote, which calculate autocorrelation and error from autocorrelation"
   ]
  },
  {
   "cell_type": "code",
   "execution_count": 10,
   "metadata": {},
   "outputs": [],
   "source": [
    "from acf import *"
   ]
  },
  {
   "cell_type": "markdown",
   "metadata": {},
   "source": [
    "Calculate a temporary guess at thermalization (around 20% of the evolution is probably good) and calculate the mean and standard deviation of the observable whose autocorrelation you want to check."
   ]
  },
  {
   "cell_type": "code",
   "execution_count": 11,
   "metadata": {},
   "outputs": [],
   "source": [
    "therm_step = int(0.2*steps[-1])\n",
    "therm_index = int(0.2*len(steps))\n",
    "dens_avg = np.mean(dens_Re[therm_index:])\n",
    "dens_sdev = np.std(dens_Re[therm_index:])"
   ]
  },
  {
   "cell_type": "markdown",
   "metadata": {},
   "source": [
    "Now plot the observable, its average and standard deviation with a vertical line to show thermalization"
   ]
  },
  {
   "cell_type": "code",
   "execution_count": 12,
   "metadata": {},
   "outputs": [
    {
     "data": {
      "image/png": "[encoded data removed]",
      "text/plain": [
       "<Figure size 432x288 with 1 Axes>"
      ]
     },
     "metadata": {
      "needs_background": "light"
     },
     "output_type": "display_data"
    }
   ],
   "source": [
    "plt.plot(steps, dens_Re, marker='o', markerfacecolor='blue', markersize=0.5, label = \"Density\")\n",
    "plt.plot(steps[therm_index:], dens_avg*np.ones_like(steps[therm_index:]), color='black', linewidth=1, label = \"Mean Density\")\n",
    "plt.fill_between(steps[therm_index:], dens_avg-dens_sdev, dens_avg+dens_sdev, color = 'black', alpha = 0.25)\n",
    "plt.axvline(x=therm_step, color = \"red\", label = \"Thermalization\")\n",
    "\n",
    "# show legend\n",
    "plt.legend()\n",
    "\n",
    "# show graph\n",
    "plt.show()"
   ]
  },
  {
   "cell_type": "markdown",
   "metadata": {},
   "source": [
    "Now calculate the autocorrelation of that observable from the function imported earlier and plot it."
   ]
  },
  {
   "cell_type": "code",
   "execution_count": 13,
   "metadata": {},
   "outputs": [
    {
     "data": {
      "image/png": "[encoded data removed]",
      "text/plain": [
       "<Figure size 432x288 with 1 Axes>"
      ]
     },
     "metadata": {
      "needs_background": "light"
     },
     "output_type": "display_data"
    }
   ],
   "source": [
    "acorr_densRe = autocorr_func_1d(dens_Re)\n",
    "\n",
    "plt.plot(steps, acorr_densRe, marker='o', markerfacecolor='blue', markersize=1, linewidth=1, label = \"Autocorrelation of the Density\")\n",
    "plt.plot(steps, 0.33*np.ones_like(steps), color = \"green\", label = \"1/3\")\n",
    "\n",
    "# show legend\n",
    "plt.legend()\n",
    "\n",
    "# show graph\n",
    "plt.show()"
   ]
  },
  {
   "cell_type": "markdown",
   "metadata": {
    "tags": []
   },
   "source": [
    "I would like to add a more in-depth analysis of how to choose our spacing using this information, but what I've been taught is the following:\n",
    "1. To get reasonably good results, you can space your samples so that the autocorrelation is reduced to about 1/3 \n",
    "2. There's a function you can use to add autocorrelation error to the total error (I'll incorporate this later)\n",
    "Note that different observables have more autocorrelation than others, so we will need to choose a spacing that's appropriate for the more autocorrelated observables."
   ]
  },
  {
   "cell_type": "markdown",
   "metadata": {},
   "source": [
    "## Averaging all the data"
   ]
  },
  {
   "cell_type": "markdown",
   "metadata": {},
   "source": [
    "For now, let's assume thermalization happens around 20% of the way through the Langevin evolution (we can do a better determination of this later, but for now this is likely a good estimate). For now, we leave out autocorrelation and will add that in later. We will average all the obervables over the final 80% of the evolution and save the results in a pandas table.\n",
    "\n",
    "First, import the custom functions I've written for this analysis (note for the future: I'd like to combine the acf package with this one)"
   ]
  },
  {
   "cell_type": "code",
   "execution_count": 14,
   "metadata": {},
   "outputs": [],
   "source": [
    "from nrrb_defs import *"
   ]
  },
  {
   "cell_type": "markdown",
   "metadata": {},
   "source": [
    "Get a list of every data folder in the main data director. These folders each correspond to a run with one set of parameters on NERSC. Also establish a list of the parameters. This is a standard list and will not change."
   ]
  },
  {
   "cell_type": "code",
   "execution_count": 15,
   "metadata": {},
   "outputs": [],
   "source": [
    "subdirs = os.listdir(data_dir)\n",
    "params_list = ['dim','Nx','Nt','dt','beta','nL','eps','m','mu','wtr','wz','lambda']"
   ]
  },
  {
   "cell_type": "markdown",
   "metadata": {},
   "source": [
    "Make an empty data frame to store the data"
   ]
  },
  {
   "cell_type": "code",
   "execution_count": 16,
   "metadata": {},
   "outputs": [],
   "source": [
    "#df_R = pd.DataFrame(columns = params_list+obs_list+err_list)\n",
    "#df_I = pd.DataFrame(columns = params_list+obs_list+err_list)\n",
    "#df_params = pd.DataFrame(columns = params_list)\n",
    "df = pd.DataFrame()"
   ]
  },
  {
   "cell_type": "markdown",
   "metadata": {},
   "source": [
    "### TO DO: \n",
    "- update this function to read in the previously-averaged data from csv\n",
    "- then it should check for new data (using parameters list)\n",
    "- average and add new data to the dataframe\n",
    "- re-export to csv"
   ]
  },
  {
   "cell_type": "code",
   "execution_count": 17,
   "metadata": {},
   "outputs": [],
   "source": [
    "csv_filename = \"averaged_nrrb_data.csv\"\n",
    "df_old = pd.read_csv(csv_filename)"
   ]
  },
  {
   "cell_type": "code",
   "execution_count": 18,
   "metadata": {},
   "outputs": [
    {
     "name": "stdout",
     "output_type": "stream",
     "text": [
      "0 new data points added to data frame\n"
     ]
    }
   ],
   "source": [
    "df_new = average_new_data(csv_filename, data_dir, obs_list)"
   ]
  },
  {
   "cell_type": "code",
   "execution_count": 19,
   "metadata": {},
   "outputs": [],
   "source": [
    "df_new.to_csv(\"new_\"+csv_filename, index = False)"
   ]
  },
  {
   "cell_type": "markdown",
   "metadata": {},
   "source": [
    "## Plot density as a function of chemical potential ($\\mu$)"
   ]
  },
  {
   "cell_type": "markdown",
   "metadata": {},
   "source": [
    "Extract the averaged values from the dataframe. This is a little more complicated because we need to filter by parameters."
   ]
  },
  {
   "cell_type": "code",
   "execution_count": null,
   "metadata": {},
   "outputs": [],
   "source": [
    "plot_params = {\n",
    "    'Nx' : 21,\n",
    "    'Nt' : 80,\n",
    "    'eps' : 0.01,\n",
    "    'tL' : 1000,\n",
    "    'wtr' : 0.0, # trap frequency\n",
    "    'wz' : 0.0, # rotation frequency\n",
    "    'lambda' : 0.0, # lambda, contact interaction strength\n",
    "}\n",
    "plot_data = df[(df[list(plot_params)] == pd.Series(plot_params)).all(axis=1)]\n",
    "print(plot_data.shape[0])\n",
    "print(list(plot_data.columns))\n",
    "plot_data.head()"
   ]
  },
  {
   "cell_type": "code",
   "execution_count": null,
   "metadata": {},
   "outputs": [],
   "source": [
    "dens_Re = plot_data[\"Dens (Re)\"]\n",
    "dens_Im = plot_data[\"Dens (Im)\"]\n",
    "mu = sorted(plot_data[\"mu\"]) #important to sort the x axis value if you're doing a line plot\n",
    "plt.plot(mu, dens_Re, marker='o', markerfacecolor='blue', markersize=1, linewidth=1, label = \"Re\")\n",
    "plt.plot(mu, dens_Im, marker='o', markerfacecolor='red', markersize=1, linewidth=1, label = \"Im\")\n",
    "\n",
    "# show legend\n",
    "plt.legend()\n",
    "\n",
    "# show graph\n",
    "plt.show()"
   ]
  },
  {
   "cell_type": "markdown",
   "metadata": {},
   "source": [
    "add exact solution"
   ]
  },
  {
   "cell_type": "markdown",
   "metadata": {},
   "source": [
    "Plot some real observables for different eps (same tL) and see how it looks"
   ]
  },
  {
   "cell_type": "markdown",
   "metadata": {},
   "source": [
    "Visualize density profiles (average)\n",
    "Also make an animation of the running average of the density profiles"
   ]
  },
  {
   "cell_type": "markdown",
   "metadata": {},
   "source": [
    "- Circulation will need to be dealt with a little differently than the other observables since we have multiple radii for our circulation loop.\n",
    "- A question... can we use machine learning to help us with the circulation observable?"
   ]
  }
 ],
 "metadata": {
  "kernelspec": {
   "display_name": "Python 3",
   "language": "python",
   "name": "python3"
  },
  "language_info": {
   "codemirror_mode": {
    "name": "ipython",
    "version": 3
   },
   "file_extension": ".py",
   "mimetype": "text/x-python",
   "name": "python",
   "nbconvert_exporter": "python",
   "pygments_lexer": "ipython3",
   "version": "3.7.4"
  }
 },
 "nbformat": 4,
 "nbformat_minor": 4
}
