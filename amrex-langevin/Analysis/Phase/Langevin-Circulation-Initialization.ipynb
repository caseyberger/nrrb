{
 "cells": [
  {
   "cell_type": "code",
   "execution_count": 1,
   "metadata": {},
   "outputs": [],
   "source": [
    "import yt\n",
    "import numpy as np\n",
    "from abc import ABC"
   ]
  },
  {
   "cell_type": "code",
   "execution_count": 2,
   "metadata": {},
   "outputs": [],
   "source": [
    "class CL_Analysis(ABC):\n",
    "    def Theta(self, i, j, k):\n",
    "        phi_1_Re, phi_1_Im, phi_2_Re, phi_2_Im = self.get_fields(i, j, k)\n",
    "        theta = np.arctan2((phi_1_Im + phi_2_Re), (phi_1_Re - phi_2_Im))\n",
    "        if theta < 0.0:\n",
    "            theta = theta + 2.0 * np.pi\n",
    "        return theta\n",
    "    \n",
    "    def DeltaTheta(self, ipl, jpl, kpl, il, jl, kl):\n",
    "        # Returns Theta(ipl, jpl, kpl) - Theta(il, jl, kl)\n",
    "        dtheta = self.Theta(ipl, jpl, kpl) - self.Theta(il, jl, kl)\n",
    "        \n",
    "        # Put dtheta into the range [-pi, 0] or [0, pi]\n",
    "        if dtheta < -np.pi:\n",
    "            dtheta += 2.0 * np.pi\n",
    "        elif dtheta > np.pi:\n",
    "            dtheta += -2.0 * np.pi\n",
    "\n",
    "        return dtheta\n",
    "    \n",
    "    def Circulation(self, radius):\n",
    "        center_i = int(self.domain_dimensions[0]/2)\n",
    "        center_j = int(self.domain_dimensions[1]/2)\n",
    "        center_k = int(self.domain_dimensions[2]/2)\n",
    "\n",
    "        circulation = 0\n",
    "\n",
    "        i_left = center_i - radius\n",
    "        i_right = center_i + radius\n",
    "        j_bottom = center_j - radius\n",
    "        j_top = center_j + radius\n",
    "\n",
    "        for j in range(self.domain_dimensions[1]):\n",
    "            # Left side of loop except top left corner\n",
    "            if j >= j_bottom and j < j_top:\n",
    "                tdiff = self.DeltaTheta(i_left, j+1, center_k, i_left, j, center_k)\n",
    "                print(\"adding ({}, {}): {}\".format(i_left, j, tdiff))\n",
    "                circulation += tdiff\n",
    "\n",
    "            # Top left corner of loop\n",
    "            elif j == j_top:\n",
    "                tdiff = self.DeltaTheta(i_left+1, j, center_k, i_left, j, center_k)\n",
    "                print(\"adding ({}, {}): {}\".format(i_left, j, tdiff))\n",
    "                circulation += tdiff\n",
    "                \n",
    "            # Right side of loop except bottom right corner\n",
    "            if j > j_bottom and j <= j_top:\n",
    "                tdiff = self.DeltaTheta(i_right, j-1, center_k, i_right, j, center_k)\n",
    "                print(\"adding ({}, {}): {}\".format(i_right, j, tdiff))\n",
    "                circulation += tdiff\n",
    "    \n",
    "            # Bottom right corner of loop\n",
    "            elif j == j_bottom:\n",
    "                tdiff = self.DeltaTheta(i_right-1, j, center_k, i_right, j, center_k)\n",
    "                print(\"adding ({}, {}): {}\".format(i_right, j, tdiff))\n",
    "                circulation += tdiff\n",
    "\n",
    "        for i in range(self.domain_dimensions[0]):\n",
    "            # Top and Bottom sides of loop except corners\n",
    "            if i > i_left and i < i_right:\n",
    "                tdiff = self.DeltaTheta(i+1, j_top, center_k, i, j_top, center_k)\n",
    "                circulation += tdiff\n",
    "                print(\"adding ({}, {}): {}\".format(i, j_top, tdiff))\n",
    "\n",
    "                tdiff = self.DeltaTheta(i-1, j_bottom, center_k, i, j_bottom, center_k)\n",
    "                circulation += tdiff\n",
    "                print(\"adding ({}, {}): {}\".format(i, j_bottom, tdiff))\n",
    "\n",
    "        circulation = circulation/(2.0 * np.pi)\n",
    "        return circulation"
   ]
  },
  {
   "cell_type": "code",
   "execution_count": 3,
   "metadata": {},
   "outputs": [],
   "source": [
    "class AMReX_CL_Data(CL_Analysis):\n",
    "    def __init__(self, plotfile):\n",
    "        ds = yt.load(plotfile)\n",
    "        cg = ds.covering_grid(left_edge=ds.domain_left_edge, dims=ds.domain_dimensions, level=0)\n",
    "        coords = cg.fcoords\n",
    "        \n",
    "        self.domain_dimensions = ds.domain_dimensions\n",
    "\n",
    "        xs = coords[:,0]\n",
    "        ys = coords[:,1]\n",
    "        ts = coords[:,2]\n",
    "\n",
    "        self.dx = np.max(xs[1:] - xs[:-1])\n",
    "        self.dy = np.max(ys[1:] - ys[:-1])\n",
    "        self.dt = np.max(ts[1:] - ts[:-1])\n",
    "\n",
    "        self.phi_1_Re = cg[\"phi_1_Re\"][:,:,:].d\n",
    "        self.phi_1_Im = cg[\"phi_1_Im\"][:,:,:].d\n",
    "        self.phi_2_Re = cg[\"phi_2_Re\"][:,:,:].d\n",
    "        self.phi_2_Im = cg[\"phi_2_Im\"][:,:,:].d\n",
    "\n",
    "    def get_fields(self, i,j,k):\n",
    "        return self.phi_1_Re[i,j,k], self.phi_1_Im[i,j,k], self.phi_2_Re[i,j,k], self.phi_2_Im[i,j,k]"
   ]
  },
  {
   "cell_type": "markdown",
   "metadata": {},
   "source": [
    "Calculates the circulation for an initialization with unit circulation. The phase starts at $0$ in the lower left corner of each loop and increments by a full $2\\pi$ around the loop."
   ]
  },
  {
   "cell_type": "code",
   "execution_count": 4,
   "metadata": {},
   "outputs": [
    {
     "name": "stderr",
     "output_type": "stream",
     "text": [
      "yt : [INFO     ] 2020-03-17 12:37:57,297 Parameters: current_time              = 0.0\n",
      "yt : [INFO     ] 2020-03-17 12:37:57,298 Parameters: domain_dimensions         = [21 21 80]\n",
      "yt : [INFO     ] 2020-03-17 12:37:57,300 Parameters: domain_left_edge          = [0. 0. 0.]\n",
      "yt : [INFO     ] 2020-03-17 12:37:57,301 Parameters: domain_right_edge         = [21. 21. 80.]\n"
     ]
    },
    {
     "name": "stdout",
     "output_type": "stream",
     "text": [
      "adding (8, 8): 0.39269908169872414\n",
      "adding (12, 8): 0.3926990816987246\n",
      "adding (8, 9): 0.39269908169872414\n",
      "adding (12, 9): 0.3926990816987246\n",
      "adding (8, 10): 0.39269908169872414\n",
      "adding (12, 10): 0.39269908169872414\n",
      "adding (8, 11): 0.39269908169872414\n",
      "adding (12, 11): 0.39269908169872414\n",
      "adding (8, 12): 0.39269908169872414\n",
      "adding (12, 12): 0.3926990816987237\n",
      "adding (9, 12): 0.39269908169872414\n",
      "adding (9, 8): 0.3926990816987246\n",
      "adding (10, 12): 0.39269908169872414\n",
      "adding (10, 8): 0.3926990816987237\n",
      "adding (11, 12): 0.39269908169872414\n",
      "adding (11, 8): 0.3926990816987237\n",
      "0.9999999999999999\n"
     ]
    }
   ],
   "source": [
    "amrex_cl = AMReX_CL_Data(\"problem_1/plt00000\")\n",
    "amrex_circ = amrex_cl.Circulation(2)\n",
    "print(amrex_circ)"
   ]
  },
  {
   "cell_type": "markdown",
   "metadata": {},
   "source": [
    "Calculates the circulation for an initialization with zero circulation but nonzero phase gradient. The phase starts at $0$ in the lower left corner of each loop and increments by a full $2\\pi$ halfway around the loop. In the second half of the loop, the phase decrements by a full $2\\pi$ to return to $0$."
   ]
  },
  {
   "cell_type": "code",
   "execution_count": 5,
   "metadata": {},
   "outputs": [
    {
     "name": "stderr",
     "output_type": "stream",
     "text": [
      "yt : [INFO     ] 2020-03-17 12:37:57,808 Parameters: current_time              = 0.0\n",
      "yt : [INFO     ] 2020-03-17 12:37:57,809 Parameters: domain_dimensions         = [21 21 80]\n",
      "yt : [INFO     ] 2020-03-17 12:37:57,813 Parameters: domain_left_edge          = [0. 0. 0.]\n",
      "yt : [INFO     ] 2020-03-17 12:37:57,817 Parameters: domain_right_edge         = [21. 21. 80.]\n"
     ]
    },
    {
     "name": "stdout",
     "output_type": "stream",
     "text": [
      "adding (8, 8): 0.7853981633974483\n",
      "adding (12, 8): -0.7853981633974483\n",
      "adding (8, 9): 0.7853981633974483\n",
      "adding (12, 9): -0.7853981633974478\n",
      "adding (8, 10): 0.7853981633974483\n",
      "adding (12, 10): -0.7853981633974487\n",
      "adding (8, 11): 0.7853981633974483\n",
      "adding (12, 11): -0.7853981633974483\n",
      "adding (8, 12): 0.7853981633974478\n",
      "adding (12, 12): -0.7853981633974483\n",
      "adding (9, 12): 0.7853981633974487\n",
      "adding (9, 8): -0.7853981633974483\n",
      "adding (10, 12): 0.7853981633974483\n",
      "adding (10, 8): -0.7853981633974483\n",
      "adding (11, 12): 0.7853981633974483\n",
      "adding (11, 8): -0.7853981633974483\n",
      "0.0\n"
     ]
    }
   ],
   "source": [
    "amrex_cl = AMReX_CL_Data(\"problem_2/plt00000\")\n",
    "amrex_circ = amrex_cl.Circulation(2)\n",
    "print(amrex_circ)"
   ]
  },
  {
   "cell_type": "code",
   "execution_count": null,
   "metadata": {},
   "outputs": [],
   "source": []
  }
 ],
 "metadata": {
  "kernelspec": {
   "display_name": "Python 3",
   "language": "python",
   "name": "python3"
  },
  "language_info": {
   "codemirror_mode": {
    "name": "ipython",
    "version": 3
   },
   "file_extension": ".py",
   "mimetype": "text/x-python",
   "name": "python",
   "nbconvert_exporter": "python",
   "pygments_lexer": "ipython3",
   "version": "3.7.3"
  }
 },
 "nbformat": 4,
 "nbformat_minor": 4
}
