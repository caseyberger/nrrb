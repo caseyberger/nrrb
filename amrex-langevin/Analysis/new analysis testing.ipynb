{
 "cells": [
  {
   "cell_type": "markdown",
   "metadata": {},
   "source": [
    "See if you can make this parallelizable... make the averaged csvs in each subdirectory and then go through and concatenate them quickly.\n",
    "\n",
    "SO FAR: the average_observables function (in old_cori_defs) creates and returns a dictionary. It should create and return a .csv instead with all the params and the observable values\n",
    "\n",
    "DONE: it's easy now to plot tL evolution since we have a csv. Move this to the plotting notebook.\n",
    "\n",
    "QUESTION: how to incorporate circulation?\n",
    "\n",
    "Data on cori currently stored here:\n",
    "cberger@cori.nersc.gov:/global/cscratch1/sd/cberger/nrrb_early_testing/\n",
    "\n",
    "Organization for future:\n",
    "- all subdirectories should start with nrrb_data_... for the sake of searching\n",
    "- output observables file should start with \"observables\"? (change from \"logfile\"?)"
   ]
  },
  {
   "cell_type": "code",
   "execution_count": null,
   "metadata": {},
   "outputs": [],
   "source": [
    "import numpy as np\n",
    "import os\n",
    "\n",
    "from defs_cori import *"
   ]
  },
  {
   "cell_type": "code",
   "execution_count": null,
   "metadata": {},
   "outputs": [],
   "source": [
    "curr_dir = os.getcwd()+\"/\"\n",
    "subdirectories = os.listdir(curr_dir)\n",
    "data_directories = []\n",
    "for subdir in subdirectories:\n",
    "    if subdir.startswith(\"nrrb_data_\"):\n",
    "        data_directories.append(subdir)\n",
    "print(data_directories)"
   ]
  },
  {
   "cell_type": "code",
   "execution_count": null,
   "metadata": {},
   "outputs": [],
   "source": [
    "for data_dir in data_directories:\n",
    "    work_dir = curr_dir+data_dir\n",
    "    if os.path.isdir(work_dir):\n",
    "        all_files = os.listdir(work_dir)\n",
    "        for filename in all_files:\n",
    "            if filename.startswith(\"input\"):\n",
    "                input_filename = filename\n",
    "            if filename.startswith(\"logfile\"): \n",
    "                obs_filename = filename\n",
    "        p = extract_parameters(work_dir,input_filename)\n",
    "        Langevin_evol_data = get_raw_data(work_dir, obs_filename)\n",
    "        Ntherm = int(0.2*len(Langevin_evol_data[\"Re n\"]))\n",
    "        average_observables(work_dir,Langevin_evol_data,p,Ntherm) "
   ]
  },
  {
   "cell_type": "code",
   "execution_count": null,
   "metadata": {},
   "outputs": [],
   "source": [
    "import pandas as pd\n",
    "filename = \"nrrb_data_test2/averaged_observables.csv\"\n",
    "data_avg = pd.read_csv(curr_dir+filename)\n",
    "data_avg.head()"
   ]
  },
  {
   "cell_type": "code",
   "execution_count": null,
   "metadata": {},
   "outputs": [],
   "source": [
    "concatenate_obs_files(curr_dir)"
   ]
  },
  {
   "cell_type": "code",
   "execution_count": null,
   "metadata": {},
   "outputs": [],
   "source": [
    "import pandas as pd\n",
    "master_data_avg = pd.read_csv(curr_dir+\"all_averaged_observables.csv\")"
   ]
  },
  {
   "cell_type": "code",
   "execution_count": null,
   "metadata": {},
   "outputs": [],
   "source": [
    "master_data_avg.head()"
   ]
  },
  {
   "cell_type": "code",
   "execution_count": null,
   "metadata": {},
   "outputs": [],
   "source": []
  }
 ],
 "metadata": {
  "kernelspec": {
   "display_name": "Python (amrex_cl)",
   "language": "python",
   "name": "amrex_cl"
  },
  "language_info": {
   "codemirror_mode": {
    "name": "ipython",
    "version": 3
   },
   "file_extension": ".py",
   "mimetype": "text/x-python",
   "name": "python",
   "nbconvert_exporter": "python",
   "pygments_lexer": "ipython3",
   "version": "3.5.6"
  }
 },
 "nbformat": 4,
 "nbformat_minor": 2
}
